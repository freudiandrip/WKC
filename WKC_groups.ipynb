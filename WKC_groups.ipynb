{
 "cells": [
  {
   "cell_type": "markdown",
   "id": "2e6d3ee8-a346-480a-9855-fc9aae42b4da",
   "metadata": {},
   "source": [
    "# Westminster dog show data\n",
    "## Part 2: Group winners\n",
    "Grabbing the data from the group winners from 1924 - 2023\n",
    "https://www.westminsterkennelclub.org/about-sensation/history/herding-group-winners"
   ]
  },
  {
   "cell_type": "code",
   "execution_count": 339,
   "id": "29fa4539-c180-49c0-a7c1-2fa9b671a2b5",
   "metadata": {},
   "outputs": [],
   "source": [
    "# housekeeping\n",
    "from tqdm import tqdm\n",
    "from pathlib import Path\n",
    "import pprint as pp\n",
    "\n",
    "# analysis\n",
    "import requests\n",
    "import lxml.html\n",
    "import pandas as pd\n",
    "import re\n",
    "import random\n"
   ]
  },
  {
   "cell_type": "markdown",
   "id": "ed78bc2c-c58f-4adf-9213-6dc9d1cb1ca5",
   "metadata": {},
   "source": [
    "### 1. `get_rows` helper function\n",
    "- takes in a table\n",
    "- returns the running group_matrix so far"
   ]
  },
  {
   "cell_type": "code",
   "execution_count": 324,
   "id": "ec684206-53cb-45fc-9f7e-42f46d16566f",
   "metadata": {},
   "outputs": [],
   "source": [
    "def get_rows(table, group, index):\n",
    "    rows = table.cssselect('tr')[1:]\n",
    "    print(f\"Fetching {group} table rows\")\n",
    "    print(\"-------------------------------\")\n",
    "    \n",
    "    for row_el in tqdm(rows):\n",
    "        children = row_el.getchildren()\n",
    "        \n",
    "        #DEBUG\n",
    "        # print(f\"Currently on row: {index}\" )\n",
    "        # print(\"list is \" + str(len(children)) + \" items long\")\n",
    "        # print(\"-----------------------------\")\n",
    "\n",
    "        if len(children) == 0:\n",
    "            # print(\"Empty row - reindexed & skipped!\")\n",
    "            # print(\"-----------------------------\")\n",
    "            continue       \n",
    "        \n",
    "        champion = list(map(lambda x: x.text_content(), children))\n",
    "        champion.append(group)\n",
    "        index = index + 1\n",
    "        \n",
    "        groups_matrix.append(champion)\n",
    "        index = index + 1\n",
    "        \n",
    "    return groups_matrix"
   ]
  },
  {
   "cell_type": "markdown",
   "id": "9893a6e5-a12c-4312-83e7-62e2a7989781",
   "metadata": {},
   "source": [
    "### 2. `DOM_to_matrix` wrapper function:\n",
    "- takes in `page_html` string, and `url` with relative path\n",
    "- returns matrix, `n x n` list of lists, with the following cols:\n",
    "    - group, year, breed, name, owners"
   ]
  },
  {
   "cell_type": "code",
   "execution_count": 330,
   "id": "a7522f37-42a2-4747-bb1c-3d32baaf330f",
   "metadata": {},
   "outputs": [],
   "source": [
    "def DOM_to_matrix(page, sub_url):\n",
    "    group_dom = lxml.html.fromstring(page_html)\n",
    "    index = 0\n",
    "\n",
    "    # grabbing table \n",
    "    group_table = group_dom.cssselect(\"table\")[0]\n",
    "\n",
    "    # grabbing group\n",
    "    pattern = '.*(?=\\-group-winners)'\n",
    "    m = re.search(pattern, sub_url)\n",
    "    group_m = m.group(0).title()\n",
    "    \n",
    "    # grabbing rows in table\n",
    "    get_rows(group_table, group_m, index)\n",
    "\n",
    "    return groups_matrix"
   ]
  },
  {
   "cell_type": "code",
   "execution_count": 331,
   "id": "d54798d9-c09c-40e4-9145-d28ae030a201",
   "metadata": {},
   "outputs": [],
   "source": [
    "# function test with 1 page\n",
    "# groups_matrix = []\n",
    "# DOM_to_matrix(page_html, url)"
   ]
  },
  {
   "cell_type": "markdown",
   "id": "22a2802e-f8ab-4552-b0db-2256b9504089",
   "metadata": {},
   "source": [
    "## Variable initialization"
   ]
  },
  {
   "cell_type": "code",
   "execution_count": 332,
   "id": "b4be84cc-8260-4faa-b0fa-7ba0de5a83b3",
   "metadata": {},
   "outputs": [],
   "source": [
    "groups_matrix = []\n",
    "\n",
    "# url selection nested within script? not able to chain select from index.\n",
    "index_URL = \"https://www.westminsterkennelclub.org/tag?id=5afcae7ddcb2e405b315c336&name=Group%20Winners\"\n",
    "\n",
    "# work-around\n",
    "base_URL = \"https://www.westminsterkennelclub.org/about-sensation/history/\"\n",
    "rel_urls = [\"sporting-group-winners\",\n",
    "            \"hound-group-winners\",\n",
    "            \"working-group-winners\",\n",
    "            \"terrier-group-winners\",\n",
    "            \"toy-group-winners\",\n",
    "            \"non-sporting-group-winners\",\n",
    "            \"herding-group-winners\",\n",
    "           ]"
   ]
  },
  {
   "cell_type": "markdown",
   "id": "3cf86e6d-e7a3-4242-a10e-effa63df4977",
   "metadata": {},
   "source": [
    "## Scraping, storing, matrix creation"
   ]
  },
  {
   "cell_type": "code",
   "execution_count": 333,
   "id": "a6ceb211-0c37-4e6a-8540-9accb7b70141",
   "metadata": {},
   "outputs": [
    {
     "name": "stderr",
     "output_type": "stream",
     "text": [
      "  0%|                                                                                 | 0/7 [00:00<?, ?it/s]"
     ]
    },
    {
     "name": "stdout",
     "output_type": "stream",
     "text": [
      "-------------------------------\n",
      "file \"sporting-group-winners\" exists! Loading\n",
      "\n",
      "Fetching Sporting table rows\n",
      "-------------------------------\n"
     ]
    },
    {
     "name": "stderr",
     "output_type": "stream",
     "text": [
      "\n",
      "100%|██████████████████████████████████████████████████████████████████| 100/100 [00:00<00:00, 31835.32it/s]\u001b[A\n"
     ]
    },
    {
     "name": "stdout",
     "output_type": "stream",
     "text": [
      "-------------------------------\n",
      "file \"hound-group-winners\" exists! Loading\n",
      "\n",
      "Fetching Hound table rows\n",
      "-------------------------------\n"
     ]
    },
    {
     "name": "stderr",
     "output_type": "stream",
     "text": [
      "\n",
      "100%|████████████████████████████████████████████████████████████████████| 94/94 [00:00<00:00, 14943.89it/s]\u001b[A\n"
     ]
    },
    {
     "name": "stdout",
     "output_type": "stream",
     "text": [
      "-------------------------------\n",
      "file \"working-group-winners\" exists! Loading\n",
      "\n",
      "Fetching Working table rows\n",
      "-------------------------------\n"
     ]
    },
    {
     "name": "stderr",
     "output_type": "stream",
     "text": [
      "\n",
      "100%|██████████████████████████████████████████████████████████████████| 101/101 [00:00<00:00, 11435.72it/s]\u001b[A\n",
      " 43%|███████████████████████████████▎                                         | 3/7 [00:00<00:00, 12.14it/s]"
     ]
    },
    {
     "name": "stdout",
     "output_type": "stream",
     "text": [
      "-------------------------------\n",
      "file \"terrier-group-winners\" exists! Loading\n",
      "\n",
      "Fetching Terrier table rows\n",
      "-------------------------------\n"
     ]
    },
    {
     "name": "stderr",
     "output_type": "stream",
     "text": [
      "\n",
      "100%|██████████████████████████████████████████████████████████████████| 101/101 [00:00<00:00, 14237.57it/s]\u001b[A\n"
     ]
    },
    {
     "name": "stdout",
     "output_type": "stream",
     "text": [
      "-------------------------------\n",
      "file \"toy-group-winners\" exists! Loading\n",
      "\n",
      "Fetching Toy table rows\n",
      "-------------------------------\n"
     ]
    },
    {
     "name": "stderr",
     "output_type": "stream",
     "text": [
      "\n",
      "100%|███████████████████████████████████████████████████████████████████| 101/101 [00:00<00:00, 7461.99it/s]\u001b[A\n"
     ]
    },
    {
     "name": "stdout",
     "output_type": "stream",
     "text": [
      "-------------------------------\n",
      "file \"non-sporting-group-winners\" exists! Loading\n",
      "\n",
      "Fetching Non-Sporting table rows\n",
      "-------------------------------\n"
     ]
    },
    {
     "name": "stderr",
     "output_type": "stream",
     "text": [
      "\n",
      "100%|███████████████████████████████████████████████████████████████████| 101/101 [00:00<00:00, 7656.74it/s]\u001b[A\n",
      " 86%|██████████████████████████████████████████████████████████████▌          | 6/7 [00:00<00:00, 16.19it/s]"
     ]
    },
    {
     "name": "stdout",
     "output_type": "stream",
     "text": [
      "-------------------------------\n",
      "file \"herding-group-winners\" exists! Loading\n",
      "\n",
      "Fetching Herding table rows\n",
      "-------------------------------\n"
     ]
    },
    {
     "name": "stderr",
     "output_type": "stream",
     "text": [
      "\n",
      "100%|█████████████████████████████████████████████████████████████████████| 42/42 [00:00<00:00, 1025.06it/s]\u001b[A\n",
      "100%|█████████████████████████████████████████████████████████████████████████| 7/7 [00:00<00:00, 14.30it/s]\n"
     ]
    }
   ],
   "source": [
    "# adapted from Jeremy's script - grabbing + storing in HTML files.\n",
    "## maybe do it concurrently?????? if list of URLs was long. Refer to Kai's doc.\n",
    "\n",
    "for url in tqdm(rel_urls):\n",
    "    dest = Path(\"table-pgs/\" + f\"{url}\" + \".html\")\n",
    "    \n",
    "    if dest.exists(): # ... load it from file\n",
    "        page_html = open(dest).read()\n",
    "        print(\"-------------------------------\")\n",
    "        print(f\"file \\\"{url}\\\" exists! Loading\\n\")\n",
    "        page_html = open(dest).read()\n",
    "\n",
    "        # function call to create 7 group matrix\n",
    "        DOM_to_matrix(page_html, url)\n",
    "            \n",
    "    else: # ... fetch it\n",
    "        page_url = base_URL + url\n",
    "        print(\"Fetching \" + page_url)\n",
    "        page_html = requests.get(page_url).text\n",
    "        \n",
    "        # ... and then save it to file\n",
    "        with open(dest, \"w\") as f:\n",
    "            f.write(page_html)"
   ]
  },
  {
   "cell_type": "code",
   "execution_count": 334,
   "id": "31fddb94-f0a0-4f48-9621-6ae400a462f2",
   "metadata": {
    "collapsed": true,
    "jupyter": {
     "outputs_hidden": true
    }
   },
   "outputs": [
    {
     "name": "stdout",
     "output_type": "stream",
     "text": [
      "Matrix is 5 x 635\n",
      "\n",
      "-------------------------------\n",
      "\n",
      "20 random winning dogs from the matrix:\n",
      "\n",
      "[['2005', 'Pekingese', 'Ch. Yakee If Only', 'Kit Woodruff', 'Toy'],\n",
      " ['1964',\n",
      "  'Whippet',\n",
      "  'Ch. Courtenay Fleetfoot of Pennyworth',\n",
      "  'Pennyworth Kennels',\n",
      "  'Hound'],\n",
      " ['1962',\n",
      "  'Poodle (Miniature)',\n",
      "  'Ch. Crikora Commotion',\n",
      "  'Mrs. J. Donald Duncan',\n",
      "  'Non-Sporting'],\n",
      " ['1955',\n",
      "  'English Springer Spaniel',\n",
      "  'Ch. King Peter of Salilyn',\n",
      "  'Mrs. F. H. Gasow',\n",
      "  'Sporting'],\n",
      " ['1929',\n",
      "  'Wire Fox Terrier',\n",
      "  'Eden Aristocrat of Wildoaks',\n",
      "  'Mr. & Mrs. R. C. Bondy',\n",
      "  'Terrier'],\n",
      " ['1980',\n",
      "  'Gordon Setter',\n",
      "  'Ch. Ben-Wen’s Benjy McDee',\n",
      "  'Marie Annello & B. Perlstein',\n",
      "  'Sporting'],\n",
      " ['1993',\n",
      "  'Borzoi',\n",
      "  'Ch. Fox Run’s Ivy Rose',\n",
      "  'Ronald Mater & Joanne Hack',\n",
      "  'Hound'],\n",
      " ['1935', 'Pomeranian', 'Wonder Son', 'Miss E. G. Hydon', 'Toy'],\n",
      " ['1931', 'Greyhound', 'Gamecock Duke of Wales', 'George S. West', 'Hound'],\n",
      " ['1945',\n",
      "  'Cocker Spaniel (Black)',\n",
      "  'Ch. Stockdale Town Talk',\n",
      "  'C. B. Van Meter',\n",
      "  'Sporting'],\n",
      " ['1951',\n",
      "  'Poodle (Toy)',\n",
      "  'Ch. Cartlane Once',\n",
      "  'Mrs. Charles R. Fleishman',\n",
      "  'Toy'],\n",
      " ['1989',\n",
      "  'Poodle (Standard)',\n",
      "  'Ch. Ted-El Halo Jet Setter',\n",
      "  'Robert Koeppel',\n",
      "  'Non-Sporting'],\n",
      " ['2011',\n",
      "  'Bearded Collie',\n",
      "  'GCh. Tolkien Raintree Mister Baggins',\n",
      "  'Ellen Charles & Stein & L. Woodcock & R. Lamm & Ross',\n",
      "  'Herding'],\n",
      " ['2007',\n",
      "  'Petit Basset Griffon Vendeen',\n",
      "  'Ch. Celestial Cj’s Jolly Fairchild',\n",
      "  'Jeanne Hurty & Charles Hurty & Pamela Helmer & Joseph H',\n",
      "  'Hound'],\n",
      " ['1969',\n",
      "  'Chow Chow',\n",
      "  'Ch. Gotschall’s Van Van',\n",
      "  'Donald Drennan and Mrs Valetta Gotschall',\n",
      "  'Non-Sporting'],\n",
      " ['1991',\n",
      "  'Poodle (Toy)',\n",
      "  'Ch. Trebor of Ahs Capital Gains',\n",
      "  'Gary Wittmeier',\n",
      "  'Toy'],\n",
      " ['1991',\n",
      "  'Boxer',\n",
      "  'Ch. Kiebla’s Tradition of Turo',\n",
      "  'Bruce & Jeannie Korson',\n",
      "  'Working'],\n",
      " ['1928', 'Bulldog', 'Ch. Sessue', 'William E. Chetwin', 'Non-Sporting'],\n",
      " ['1946',\n",
      "  'EnglishSetter',\n",
      "  'Ch. Prune’s Own Palmer',\n",
      "  'Prune’s Own Kennels',\n",
      "  'Sporting'],\n",
      " ['1969',\n",
      "  'Manchester Terrier (Toy)',\n",
      "  'Ch. Renreh Lorelei of Charmara',\n",
      "  'Marie E. & Charles A. T. O’Neill',\n",
      "  'Toy']]\n"
     ]
    }
   ],
   "source": [
    "# sanity check\n",
    "\n",
    "print(\"Matrix is 5 x\", len(groups_matrix))\n",
    "print(\"\\n-------------------------------\\n\")\n",
    "print(\"20 random winning dogs from the matrix:\\n\")\n",
    "pp.pprint(random.sample(groups_matrix, 20))"
   ]
  },
  {
   "cell_type": "markdown",
   "id": "b9c96982-ab7a-4bc3-9b8d-a78e1bdf9cec",
   "metadata": {},
   "source": [
    "## groups df creation"
   ]
  },
  {
   "cell_type": "code",
   "execution_count": 335,
   "id": "205a6efa-a7ae-42b4-8a1e-1aedfd5475f0",
   "metadata": {},
   "outputs": [
    {
     "data": {
      "text/html": [
       "<div>\n",
       "<style scoped>\n",
       "    .dataframe tbody tr th:only-of-type {\n",
       "        vertical-align: middle;\n",
       "    }\n",
       "\n",
       "    .dataframe tbody tr th {\n",
       "        vertical-align: top;\n",
       "    }\n",
       "\n",
       "    .dataframe thead th {\n",
       "        text-align: right;\n",
       "    }\n",
       "</style>\n",
       "<table border=\"1\" class=\"dataframe\">\n",
       "  <thead>\n",
       "    <tr style=\"text-align: right;\">\n",
       "      <th></th>\n",
       "      <th>year</th>\n",
       "      <th>breed</th>\n",
       "      <th>dog</th>\n",
       "      <th>owner(s)</th>\n",
       "      <th>group</th>\n",
       "    </tr>\n",
       "  </thead>\n",
       "  <tbody>\n",
       "    <tr>\n",
       "      <th>0</th>\n",
       "      <td>2023</td>\n",
       "      <td>English Setter</td>\n",
       "      <td>GCHB CH Winchester's An Apple A Day JH</td>\n",
       "      <td>S Nordstrom &amp; C Hodges &amp; R Barnes &amp; S McGraw &amp;...</td>\n",
       "      <td>Sporting</td>\n",
       "    </tr>\n",
       "    <tr>\n",
       "      <th>1</th>\n",
       "      <td>2022</td>\n",
       "      <td>English Setter</td>\n",
       "      <td>GCHS CH Ciara N' Honeygait Belle Of The Ball F...</td>\n",
       "      <td>Van Jacobsen &amp; Lee Afdahl &amp; Amanda &amp; Vito Ciar...</td>\n",
       "      <td>Sporting</td>\n",
       "    </tr>\n",
       "    <tr>\n",
       "      <th>2</th>\n",
       "      <td>2021</td>\n",
       "      <td>German Shorthaired Pointer</td>\n",
       "      <td>GCHS CH Clarity Reach The sky VJK-Myst</td>\n",
       "      <td>V. Nunes-Atkinson &amp; Yvonne Hassler-Deterding &amp;...</td>\n",
       "      <td>Sporting</td>\n",
       "    </tr>\n",
       "    <tr>\n",
       "      <th>3</th>\n",
       "      <td>2020</td>\n",
       "      <td>Golden Retriever</td>\n",
       "      <td>GCHP CH Hillock's Jack Daniel's RA JH CA RATN ...</td>\n",
       "      <td>Tammy Tomlinson , Jim Cohen &amp; Robert Samios</td>\n",
       "      <td>Sporting</td>\n",
       "    </tr>\n",
       "    <tr>\n",
       "      <th>4</th>\n",
       "      <td>2019</td>\n",
       "      <td>Sussex Spaniel</td>\n",
       "      <td>GCh. Kamand’s Full Of Beans @ Erinhill</td>\n",
       "      <td>Karen Ann Toner &amp; Amanda W Toner</td>\n",
       "      <td>Sporting</td>\n",
       "    </tr>\n",
       "    <tr>\n",
       "      <th>...</th>\n",
       "      <td>...</td>\n",
       "      <td>...</td>\n",
       "      <td>...</td>\n",
       "      <td>...</td>\n",
       "      <td>...</td>\n",
       "    </tr>\n",
       "    <tr>\n",
       "      <th>630</th>\n",
       "      <td>1987</td>\n",
       "      <td>German Shepherd Dog</td>\n",
       "      <td>Ch. Covy Tucker Hill’s Manhattan</td>\n",
       "      <td>Shirlee Braunstein &amp; Jane A. Firestone</td>\n",
       "      <td>Herding</td>\n",
       "    </tr>\n",
       "    <tr>\n",
       "      <th>631</th>\n",
       "      <td>1986</td>\n",
       "      <td>German Shepherd Dog</td>\n",
       "      <td>Ch. Covy Tucker Hill’s Manhattan</td>\n",
       "      <td>Shirlee Braunstein &amp; Jane A. Firestone</td>\n",
       "      <td>Herding</td>\n",
       "    </tr>\n",
       "    <tr>\n",
       "      <th>632</th>\n",
       "      <td>1985</td>\n",
       "      <td>Shetland Sheepdog</td>\n",
       "      <td>Ch. Rhodan’s The Windwalker</td>\n",
       "      <td>Kathleen Schmutz</td>\n",
       "      <td>Herding</td>\n",
       "    </tr>\n",
       "    <tr>\n",
       "      <th>633</th>\n",
       "      <td>1984</td>\n",
       "      <td>German Shepherd Dog</td>\n",
       "      <td>Ch. Covy Tucker Hill’s Manhattan</td>\n",
       "      <td>Shirlee Braunstein &amp; Jane A. Firestone</td>\n",
       "      <td>Herding</td>\n",
       "    </tr>\n",
       "    <tr>\n",
       "      <th>634</th>\n",
       "      <td>1983</td>\n",
       "      <td>Belgian Tervuren</td>\n",
       "      <td>Ch. Corsairs Beaujangles</td>\n",
       "      <td>Steve Sorenson</td>\n",
       "      <td>Herding</td>\n",
       "    </tr>\n",
       "  </tbody>\n",
       "</table>\n",
       "<p>635 rows × 5 columns</p>\n",
       "</div>"
      ],
      "text/plain": [
       "     year                       breed  \\\n",
       "0    2023              English Setter   \n",
       "1    2022              English Setter   \n",
       "2    2021  German Shorthaired Pointer   \n",
       "3    2020            Golden Retriever   \n",
       "4    2019              Sussex Spaniel   \n",
       "..    ...                         ...   \n",
       "630  1987         German Shepherd Dog   \n",
       "631  1986         German Shepherd Dog   \n",
       "632  1985           Shetland Sheepdog   \n",
       "633  1984         German Shepherd Dog   \n",
       "634  1983            Belgian Tervuren   \n",
       "\n",
       "                                                   dog  \\\n",
       "0               GCHB CH Winchester's An Apple A Day JH   \n",
       "1    GCHS CH Ciara N' Honeygait Belle Of The Ball F...   \n",
       "2               GCHS CH Clarity Reach The sky VJK-Myst   \n",
       "3    GCHP CH Hillock's Jack Daniel's RA JH CA RATN ...   \n",
       "4               GCh. Kamand’s Full Of Beans @ Erinhill   \n",
       "..                                                 ...   \n",
       "630                   Ch. Covy Tucker Hill’s Manhattan   \n",
       "631                   Ch. Covy Tucker Hill’s Manhattan   \n",
       "632                        Ch. Rhodan’s The Windwalker   \n",
       "633                   Ch. Covy Tucker Hill’s Manhattan   \n",
       "634                           Ch. Corsairs Beaujangles   \n",
       "\n",
       "                                              owner(s)     group  \n",
       "0    S Nordstrom & C Hodges & R Barnes & S McGraw &...  Sporting  \n",
       "1    Van Jacobsen & Lee Afdahl & Amanda & Vito Ciar...  Sporting  \n",
       "2    V. Nunes-Atkinson & Yvonne Hassler-Deterding &...  Sporting  \n",
       "3          Tammy Tomlinson , Jim Cohen & Robert Samios  Sporting  \n",
       "4                     Karen Ann Toner & Amanda W Toner  Sporting  \n",
       "..                                                 ...       ...  \n",
       "630             Shirlee Braunstein & Jane A. Firestone   Herding  \n",
       "631             Shirlee Braunstein & Jane A. Firestone   Herding  \n",
       "632                                   Kathleen Schmutz   Herding  \n",
       "633             Shirlee Braunstein & Jane A. Firestone   Herding  \n",
       "634                                     Steve Sorenson   Herding  \n",
       "\n",
       "[635 rows x 5 columns]"
      ]
     },
     "execution_count": 335,
     "metadata": {},
     "output_type": "execute_result"
    }
   ],
   "source": [
    "groups_header = group_dom.cssselect(\"tbody tr td strong\")\n",
    "header = list(map(lambda x: x.text.lower(), groups_header))\n",
    "header.append('group')\n",
    "\n",
    "raw_df = pd.DataFrame(groups_matrix, columns=header)\n",
    "groups_df = raw_df.copy()\n",
    "groups_df"
   ]
  },
  {
   "cell_type": "code",
   "execution_count": 341,
   "id": "d4f805c4-9fb6-4841-9d21-1f6e54e6a311",
   "metadata": {},
   "outputs": [],
   "source": [
    "# export as CSV\n",
    "destination = Path('./data/groups_data.csv')\n",
    "groups_df.to_csv(destination, index=False)"
   ]
  },
  {
   "cell_type": "markdown",
   "id": "ccac0865-101d-4326-aef6-e844bbb0f2f7",
   "metadata": {},
   "source": [
    "---"
   ]
  },
  {
   "cell_type": "markdown",
   "id": "01eb5afb-f2dc-430f-8f4d-92f4c0fe5fcb",
   "metadata": {},
   "source": [
    "---"
   ]
  },
  {
   "cell_type": "markdown",
   "id": "2402b2df-3856-4934-a292-8aff7d6c8688",
   "metadata": {},
   "source": [
    "---"
   ]
  }
 ],
 "metadata": {
  "kernelspec": {
   "display_name": "Python 3 (ipykernel)",
   "language": "python",
   "name": "python3"
  },
  "language_info": {
   "codemirror_mode": {
    "name": "ipython",
    "version": 3
   },
   "file_extension": ".py",
   "mimetype": "text/x-python",
   "name": "python",
   "nbconvert_exporter": "python",
   "pygments_lexer": "ipython3",
   "version": "3.8.2"
  }
 },
 "nbformat": 4,
 "nbformat_minor": 5
}
