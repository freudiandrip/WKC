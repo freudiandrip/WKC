{
 "cells": [
  {
   "cell_type": "markdown",
   "id": "e65cd828-6c25-4ac4-9df1-00712b0b597d",
   "metadata": {},
   "source": [
    "# WESTMINSTER DOG SHOW DATA"
   ]
  },
  {
   "cell_type": "markdown",
   "id": "5bf9dd9e-b35b-46f1-804e-feaf38a36933",
   "metadata": {},
   "source": [
    "## Part 1: scraping best in show data"
   ]
  },
  {
   "cell_type": "code",
   "execution_count": 2,
   "id": "d335eed5-8e08-4fb9-b810-f20489856728",
   "metadata": {},
   "outputs": [],
   "source": [
    "import requests\n",
    "import lxml.html\n",
    "import pprint as pp\n",
    "import pandas as pd"
   ]
  },
  {
   "cell_type": "code",
   "execution_count": 3,
   "id": "d893990a-6d4f-47dc-8eff-dc8adc0ba5db",
   "metadata": {},
   "outputs": [],
   "source": [
    "BIS_url = \"https://www.westminsterkennelclub.org/best-in-show-winners\"\n",
    "BIS_pg = requests.get(BIS_url).text\n",
    "BIS_dom = lxml.html.fromstring(BIS_pg)"
   ]
  },
  {
   "cell_type": "code",
   "execution_count": 4,
   "id": "0a07c117-98cc-4a6c-a22a-ae7c696359b6",
   "metadata": {},
   "outputs": [
    {
     "name": "stdout",
     "output_type": "stream",
     "text": [
      "YEAR\n",
      "JUDGE(S)\n",
      "BREED\n",
      "DOG\n",
      "OWNER(S)\n"
     ]
    },
    {
     "data": {
      "text/plain": [
       "[None, None, None, None, None]"
      ]
     },
     "execution_count": 4,
     "metadata": {},
     "output_type": "execute_result"
    }
   ],
   "source": [
    "BIS_header = BIS_dom.cssselect(\"tbody tr td strong\")\n",
    "[ print(subheading.text) for subheading in BIS_header ]"
   ]
  },
  {
   "cell_type": "code",
   "execution_count": 5,
   "id": "f02be24f-ed8c-47ef-bbec-469e33b4be18",
   "metadata": {},
   "outputs": [],
   "source": [
    "BIS_table = BIS_dom.cssselect(\"table\")[0]\n",
    "rows = BIS_table.cssselect('tr')\n",
    "\n",
    "# manually removing faulty rows\n",
    "del rows[0]\n",
    "del rows[5]\n",
    "del rows[16]\n",
    "\n",
    "champions = []\n",
    "\n",
    "for row_el in rows:\n",
    "    champion = {}\n",
    "    children = row_el.getchildren()\n",
    "    \n",
    "    champion ['breed'] = children[2].text.strip()\n",
    "    champion['dog'] = children[3].text.strip()\n",
    "    champion['year'] = children[0].text.strip()\n",
    "    champion['judges'] = children[1].text.strip()\n",
    "    champion['owners'] = children[4].text.strip()\n",
    "\n",
    "    champions.append(champion)\n"
   ]
  },
  {
   "cell_type": "code",
   "execution_count": 7,
   "id": "576af86f-4e6e-4793-8a66-a781c3879f00",
   "metadata": {},
   "outputs": [
    {
     "data": {
      "text/html": [
       "<div>\n",
       "<style scoped>\n",
       "    .dataframe tbody tr th:only-of-type {\n",
       "        vertical-align: middle;\n",
       "    }\n",
       "\n",
       "    .dataframe tbody tr th {\n",
       "        vertical-align: top;\n",
       "    }\n",
       "\n",
       "    .dataframe thead th {\n",
       "        text-align: right;\n",
       "    }\n",
       "</style>\n",
       "<table border=\"1\" class=\"dataframe\">\n",
       "  <thead>\n",
       "    <tr style=\"text-align: right;\">\n",
       "      <th></th>\n",
       "      <th>breed</th>\n",
       "      <th>dog</th>\n",
       "      <th>year</th>\n",
       "      <th>judges</th>\n",
       "      <th>owners</th>\n",
       "    </tr>\n",
       "  </thead>\n",
       "  <tbody>\n",
       "    <tr>\n",
       "      <th>0</th>\n",
       "      <td>Smooth Fox Terrier</td>\n",
       "      <td>Ch. Warren Remedy</td>\n",
       "      <td>1907</td>\n",
       "      <td>*Not Recorded</td>\n",
       "      <td>Winthrop Rutherfurd</td>\n",
       "    </tr>\n",
       "    <tr>\n",
       "      <th>1</th>\n",
       "      <td>Smooth Fox Terrier</td>\n",
       "      <td>Ch. Warren Remedy</td>\n",
       "      <td>1908</td>\n",
       "      <td>*Not Recorded</td>\n",
       "      <td>Winthrop Rutherfurd</td>\n",
       "    </tr>\n",
       "    <tr>\n",
       "      <th>2</th>\n",
       "      <td>Smooth Fox Terrier</td>\n",
       "      <td>Ch. Warren Remedy</td>\n",
       "      <td>1909</td>\n",
       "      <td>*Not Recorded</td>\n",
       "      <td>Winthrop Rutherfurd</td>\n",
       "    </tr>\n",
       "    <tr>\n",
       "      <th>3</th>\n",
       "      <td>Smooth Fox Terrier</td>\n",
       "      <td>Ch. Sabine Rarebit</td>\n",
       "      <td>1910</td>\n",
       "      <td>*Not Recorded</td>\n",
       "      <td>Sabine Kennels</td>\n",
       "    </tr>\n",
       "    <tr>\n",
       "      <th>4</th>\n",
       "      <td>Scottish Terrier</td>\n",
       "      <td>Ch. Tickle Em Jock</td>\n",
       "      <td>1911</td>\n",
       "      <td>*Not Recorded</td>\n",
       "      <td>A. Albright, Jr.</td>\n",
       "    </tr>\n",
       "    <tr>\n",
       "      <th>...</th>\n",
       "      <td>...</td>\n",
       "      <td>...</td>\n",
       "      <td>...</td>\n",
       "      <td>...</td>\n",
       "      <td>...</td>\n",
       "    </tr>\n",
       "    <tr>\n",
       "      <th>111</th>\n",
       "      <td>Wire Fox Terrier</td>\n",
       "      <td>GCHB CH King Arthur Van Foliny Home</td>\n",
       "      <td>2019</td>\n",
       "      <td>Mr. Peter Green</td>\n",
       "      <td>Victor Malzoni Jr</td>\n",
       "    </tr>\n",
       "    <tr>\n",
       "      <th>112</th>\n",
       "      <td>Standard Poodle</td>\n",
       "      <td>GCHP CH Stone Run Afternoon Tea</td>\n",
       "      <td>2020</td>\n",
       "      <td>Mr. Robert H. Slay</td>\n",
       "      <td>Connie S Unger &amp; William Lee</td>\n",
       "    </tr>\n",
       "    <tr>\n",
       "      <th>113</th>\n",
       "      <td>Pekingese</td>\n",
       "      <td>GCHG CH Pequest Wasabi</td>\n",
       "      <td>2021</td>\n",
       "      <td>Mrs. Patricia Craige Trotter</td>\n",
       "      <td>Sandra Middlebrooks &amp; Peggy Steinman &amp; Iris Lo...</td>\n",
       "    </tr>\n",
       "    <tr>\n",
       "      <th>114</th>\n",
       "      <td>Bloodhound</td>\n",
       "      <td>GCHB Flessner's Toot My Own Horn</td>\n",
       "      <td>2022</td>\n",
       "      <td>Dr. Don Sturz</td>\n",
       "      <td>Chris &amp; Bryan Flessner &amp; Heather Helmer &amp; Tina...</td>\n",
       "    </tr>\n",
       "    <tr>\n",
       "      <th>115</th>\n",
       "      <td>Petit Basset Griffon Vendeen</td>\n",
       "      <td>CH Soletrader Buddy Holly</td>\n",
       "      <td>2023</td>\n",
       "      <td>Ms. Elizabeth Sweigart</td>\n",
       "      <td>Janice Hayes &amp; Lizzie Cadmore &amp; Cathy Oneill &amp;...</td>\n",
       "    </tr>\n",
       "  </tbody>\n",
       "</table>\n",
       "<p>116 rows × 5 columns</p>\n",
       "</div>"
      ],
      "text/plain": [
       "                            breed                                  dog  year  \\\n",
       "0              Smooth Fox Terrier                    Ch. Warren Remedy  1907   \n",
       "1              Smooth Fox Terrier                    Ch. Warren Remedy  1908   \n",
       "2              Smooth Fox Terrier                    Ch. Warren Remedy  1909   \n",
       "3              Smooth Fox Terrier                   Ch. Sabine Rarebit  1910   \n",
       "4                Scottish Terrier                   Ch. Tickle Em Jock  1911   \n",
       "..                            ...                                  ...   ...   \n",
       "111              Wire Fox Terrier  GCHB CH King Arthur Van Foliny Home  2019   \n",
       "112               Standard Poodle      GCHP CH Stone Run Afternoon Tea  2020   \n",
       "113                     Pekingese               GCHG CH Pequest Wasabi  2021   \n",
       "114                    Bloodhound     GCHB Flessner's Toot My Own Horn  2022   \n",
       "115  Petit Basset Griffon Vendeen            CH Soletrader Buddy Holly  2023   \n",
       "\n",
       "                           judges  \\\n",
       "0                   *Not Recorded   \n",
       "1                   *Not Recorded   \n",
       "2                   *Not Recorded   \n",
       "3                   *Not Recorded   \n",
       "4                   *Not Recorded   \n",
       "..                            ...   \n",
       "111               Mr. Peter Green   \n",
       "112            Mr. Robert H. Slay   \n",
       "113  Mrs. Patricia Craige Trotter   \n",
       "114                 Dr. Don Sturz   \n",
       "115        Ms. Elizabeth Sweigart   \n",
       "\n",
       "                                                owners  \n",
       "0                                  Winthrop Rutherfurd  \n",
       "1                                  Winthrop Rutherfurd  \n",
       "2                                  Winthrop Rutherfurd  \n",
       "3                                       Sabine Kennels  \n",
       "4                                     A. Albright, Jr.  \n",
       "..                                                 ...  \n",
       "111                                  Victor Malzoni Jr  \n",
       "112                       Connie S Unger & William Lee  \n",
       "113  Sandra Middlebrooks & Peggy Steinman & Iris Lo...  \n",
       "114  Chris & Bryan Flessner & Heather Helmer & Tina...  \n",
       "115  Janice Hayes & Lizzie Cadmore & Cathy Oneill &...  \n",
       "\n",
       "[116 rows x 5 columns]"
      ]
     },
     "execution_count": 7,
     "metadata": {},
     "output_type": "execute_result"
    }
   ],
   "source": [
    "df = pd.DataFrame.from_records(champions)\n",
    "df"
   ]
  },
  {
   "cell_type": "code",
   "execution_count": null,
   "id": "1bd08bbc-d2d4-4452-b48d-377055f15101",
   "metadata": {},
   "outputs": [],
   "source": []
  }
 ],
 "metadata": {
  "kernelspec": {
   "display_name": "Python 3 (ipykernel)",
   "language": "python",
   "name": "python3"
  },
  "language_info": {
   "codemirror_mode": {
    "name": "ipython",
    "version": 3
   },
   "file_extension": ".py",
   "mimetype": "text/x-python",
   "name": "python",
   "nbconvert_exporter": "python",
   "pygments_lexer": "ipython3",
   "version": "3.8.2"
  }
 },
 "nbformat": 4,
 "nbformat_minor": 5
}
