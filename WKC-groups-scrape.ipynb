{
 "cells": [
  {
   "cell_type": "markdown",
   "id": "2e6d3ee8-a346-480a-9855-fc9aae42b4da",
   "metadata": {},
   "source": [
    "# Westminster dog show data\n",
    "## Part 2: Group winners\n",
    "Grabbing the data from the group winners from 1924 - 2023\n",
    "https://www.westminsterkennelclub.org/about-sensation/history/herding-group-winners"
   ]
  },
  {
   "cell_type": "code",
   "execution_count": 303,
   "id": "29fa4539-c180-49c0-a7c1-2fa9b671a2b5",
   "metadata": {},
   "outputs": [],
   "source": [
    "# make ur life easier libs\n",
    "from tqdm import tqdm\n",
    "from pathlib import Path\n",
    "import pprint as pp\n",
    "\n",
    "# analysis\n",
    "import requests\n",
    "import lxml.html\n",
    "import pandas as pd\n",
    "import re\n",
    "import random\n"
   ]
  },
  {
   "cell_type": "markdown",
   "id": "ed78bc2c-c58f-4adf-9213-6dc9d1cb1ca5",
   "metadata": {},
   "source": [
    "### 1. `get_rows` helper function\n",
    "- takes in a table\n",
    "- returns the running group_matrix so far"
   ]
  },
  {
   "cell_type": "code",
   "execution_count": 304,
   "id": "ec684206-53cb-45fc-9f7e-42f46d16566f",
   "metadata": {},
   "outputs": [],
   "source": [
    "# working script\n",
    "\n",
    "def get_rows(table, group, index):\n",
    "    rows = table.cssselect('tr')[1:]\n",
    "    print(f\"Fetching {group} table rows\")\n",
    "    print(\"-------------------------------\")\n",
    "    \n",
    "    for row_el in tqdm(rows):\n",
    "        children = row_el.getchildren()\n",
    "        \n",
    "        #DEBUG\n",
    "        # print(f\"Currently on row: {index}\" )\n",
    "        # print(\"list is \" + str(len(children)) + \" items long\")\n",
    "        # print(\"-----------------------------\")\n",
    "\n",
    "        if len(children) == 0:\n",
    "            # print(\"Empty row - reindexed & skipped!\")\n",
    "            # print(\"-----------------------------\")\n",
    "            continue       \n",
    "        \n",
    "        champion = list(map(lambda x: x.text_content(), children))\n",
    "        champion.append(group)\n",
    "        index = index + 1\n",
    "        \n",
    "        groups_matrix.append(champion)\n",
    "        index = index + 1\n",
    "        \n",
    "    return groups_matrix"
   ]
  },
  {
   "cell_type": "markdown",
   "id": "9893a6e5-a12c-4312-83e7-62e2a7989781",
   "metadata": {},
   "source": [
    "### 2. `DOM_to_matrix` wrapper function:\n",
    "- takes in `page_html` string, and `url` with relative path\n",
    "- returns matrix, `n x n` list of lists, with the following cols:\n",
    "    - group, year, breed, name, owners"
   ]
  },
  {
   "cell_type": "code",
   "execution_count": 305,
   "id": "a7522f37-42a2-4747-bb1c-3d32baaf330f",
   "metadata": {},
   "outputs": [],
   "source": [
    "def DOM_to_matrix(page, sub_url):\n",
    "    group_dom = lxml.html.fromstring(page_html)\n",
    "    index = 0\n",
    "\n",
    "    # grabbing table \n",
    "    group_table = group_dom.cssselect(\"table\")[0]\n",
    "\n",
    "    # grabbing group\n",
    "    pattern = '.*(?=\\-group-winners)'\n",
    "    m = re.search(pattern, sub_url)\n",
    "    group_m = m.group(0)\n",
    "    \n",
    "    # grabbing rows in table\n",
    "    get_rows(group_table, group_m, index)\n",
    "\n",
    "    return groups_matrix"
   ]
  },
  {
   "cell_type": "code",
   "execution_count": 314,
   "id": "d54798d9-c09c-40e4-9145-d28ae030a201",
   "metadata": {},
   "outputs": [],
   "source": [
    "# function test with 1 page\n",
    "# groups_matrix = []\n",
    "# DOM_to_matrix(page_html, url)"
   ]
  },
  {
   "cell_type": "markdown",
   "id": "22a2802e-f8ab-4552-b0db-2256b9504089",
   "metadata": {},
   "source": [
    "## Variable initialization"
   ]
  },
  {
   "cell_type": "code",
   "execution_count": 315,
   "id": "b4be84cc-8260-4faa-b0fa-7ba0de5a83b3",
   "metadata": {},
   "outputs": [],
   "source": [
    "groups_matrix = []\n",
    "\n",
    "# url selection nested within script? not able to chain select from index.\n",
    "index_URL = \"https://www.westminsterkennelclub.org/tag?id=5afcae7ddcb2e405b315c336&name=Group%20Winners\"\n",
    "\n",
    "# work-around\n",
    "base_URL = \"https://www.westminsterkennelclub.org/about-sensation/history/\"\n",
    "rel_urls = [\"sporting-group-winners\",\n",
    "            \"hound-group-winners\",\n",
    "            \"working-group-winners\",\n",
    "            \"terrier-group-winners\",\n",
    "            \"toy-group-winners\",\n",
    "            \"non-sporting-group-winners\",\n",
    "            \"herding-group-winners\",\n",
    "           ]"
   ]
  },
  {
   "cell_type": "markdown",
   "id": "3cf86e6d-e7a3-4242-a10e-effa63df4977",
   "metadata": {},
   "source": [
    "## Scraping, storing, matrix creation"
   ]
  },
  {
   "cell_type": "code",
   "execution_count": 316,
   "id": "a6ceb211-0c37-4e6a-8540-9accb7b70141",
   "metadata": {},
   "outputs": [
    {
     "name": "stderr",
     "output_type": "stream",
     "text": [
      "  0%|                                                                                 | 0/7 [00:00<?, ?it/s]"
     ]
    },
    {
     "name": "stdout",
     "output_type": "stream",
     "text": [
      "-------------------------------\n",
      "file \"sporting-group-winners\" exists! Loading\n",
      "\n",
      "Fetching sporting table rows\n",
      "-------------------------------\n"
     ]
    },
    {
     "name": "stderr",
     "output_type": "stream",
     "text": [
      "\n",
      "100%|██████████████████████████████████████████████████████████████████| 100/100 [00:00<00:00, 14507.14it/s]\u001b[A\n"
     ]
    },
    {
     "name": "stdout",
     "output_type": "stream",
     "text": [
      "-------------------------------\n",
      "file \"hound-group-winners\" exists! Loading\n",
      "\n",
      "Fetching hound table rows\n",
      "-------------------------------\n"
     ]
    },
    {
     "name": "stderr",
     "output_type": "stream",
     "text": [
      "\n",
      "100%|████████████████████████████████████████████████████████████████████| 94/94 [00:00<00:00, 12268.24it/s]\u001b[A\n"
     ]
    },
    {
     "name": "stdout",
     "output_type": "stream",
     "text": [
      "-------------------------------\n",
      "file \"working-group-winners\" exists! Loading\n",
      "\n",
      "Fetching working table rows\n",
      "-------------------------------\n"
     ]
    },
    {
     "name": "stderr",
     "output_type": "stream",
     "text": [
      "\n",
      "100%|██████████████████████████████████████████████████████████████████| 101/101 [00:00<00:00, 13586.42it/s]\u001b[A\n",
      " 43%|███████████████████████████████▎                                         | 3/7 [00:00<00:00, 25.34it/s]"
     ]
    },
    {
     "name": "stdout",
     "output_type": "stream",
     "text": [
      "-------------------------------\n",
      "file \"terrier-group-winners\" exists! Loading\n",
      "\n",
      "Fetching terrier table rows\n",
      "-------------------------------\n"
     ]
    },
    {
     "name": "stderr",
     "output_type": "stream",
     "text": [
      "\n",
      "100%|███████████████████████████████████████████████████████████████████| 101/101 [00:00<00:00, 7976.66it/s]\u001b[A\n"
     ]
    },
    {
     "name": "stdout",
     "output_type": "stream",
     "text": [
      "-------------------------------\n",
      "file \"toy-group-winners\" exists! Loading\n",
      "\n",
      "Fetching toy table rows\n",
      "-------------------------------\n"
     ]
    },
    {
     "name": "stderr",
     "output_type": "stream",
     "text": [
      "\n",
      "100%|██████████████████████████████████████████████████████████████████| 101/101 [00:00<00:00, 15314.87it/s]\u001b[A\n"
     ]
    },
    {
     "name": "stdout",
     "output_type": "stream",
     "text": [
      "-------------------------------\n",
      "file \"non-sporting-group-winners\" exists! Loading\n",
      "\n",
      "Fetching non-sporting table rows\n",
      "-------------------------------\n"
     ]
    },
    {
     "name": "stderr",
     "output_type": "stream",
     "text": [
      "\n",
      "100%|██████████████████████████████████████████████████████████████████| 101/101 [00:00<00:00, 23111.00it/s]\u001b[A\n",
      " 86%|██████████████████████████████████████████████████████████████▌          | 6/7 [00:00<00:00, 25.18it/s]"
     ]
    },
    {
     "name": "stdout",
     "output_type": "stream",
     "text": [
      "-------------------------------\n",
      "file \"herding-group-winners\" exists! Loading\n",
      "\n",
      "Fetching herding table rows\n",
      "-------------------------------\n"
     ]
    },
    {
     "name": "stderr",
     "output_type": "stream",
     "text": [
      "\n",
      "100%|████████████████████████████████████████████████████████████████████| 42/42 [00:00<00:00, 14074.85it/s]\u001b[A\n",
      "100%|█████████████████████████████████████████████████████████████████████████| 7/7 [00:00<00:00, 26.33it/s]\n"
     ]
    }
   ],
   "source": [
    "# adapted from Jeremy's script - grabbing + storing in HTML files.\n",
    "## maybe do it concurrently?????? if list of URLs was long. Refer to Kai's doc.\n",
    "\n",
    "for url in tqdm(rel_urls):\n",
    "    dest = Path(\"table-pgs/\" + f\"{url}\" + \".html\")\n",
    "    \n",
    "    if dest.exists(): # ... load it from file\n",
    "        page_html = open(dest).read()\n",
    "        print(\"-------------------------------\")\n",
    "        print(f\"file \\\"{url}\\\" exists! Loading\\n\")\n",
    "        page_html = open(dest).read()\n",
    "\n",
    "        # function call to create 7 group matrix\n",
    "        DOM_to_matrix(page_html, url)\n",
    "            \n",
    "    else: # ... fetch it\n",
    "        page_url = base_URL + url\n",
    "        print(\"Fetching \" + page_url)\n",
    "        page_html = requests.get(page_url).text\n",
    "        pg_breed\n",
    "        \n",
    "        # ... and then save it to file\n",
    "        with open(dest, \"w\") as f:\n",
    "            f.write(page_html)"
   ]
  },
  {
   "cell_type": "code",
   "execution_count": 317,
   "id": "31fddb94-f0a0-4f48-9621-6ae400a462f2",
   "metadata": {},
   "outputs": [
    {
     "name": "stdout",
     "output_type": "stream",
     "text": [
      "Matrix is 5 x 635\n",
      "\n",
      "-------------------------------\n",
      "\n",
      "20 random winning dogs from the matrix:\n",
      "\n",
      "[['1973',\n",
      "  'Afghan Hound',\n",
      "  'Ch. Khayam’s Apollo',\n",
      "  'Dr. & Mrs. Doyle Rogers',\n",
      "  'hound'],\n",
      " ['1926',\n",
      "  'Chow Chow',\n",
      "  'Ch. Victorious of Tien',\n",
      "  'Mrs. H. Earl Hoover',\n",
      "  'non-sporting'],\n",
      " ['2008',\n",
      "  'Sealyham Terrier',\n",
      "  'Ch. Efbe’s Hidalgo At Goodspice',\n",
      "  'Margery Good & Richard Good & Sandra Middlebrooks',\n",
      "  'terrier'],\n",
      " ['2011',\n",
      "  'Pekingese',\n",
      "  'GCh. Palacegarden Malachy',\n",
      "  'Iris Love & S. Middlebrooks & D. Fitzpatrick',\n",
      "  'toy'],\n",
      " ['1991',\n",
      "  'Scottish Deerhound',\n",
      "  'Ch. Fernhill’s Phantom CD',\n",
      "  'Miranda Levin & Barbara Heidenreich',\n",
      "  'hound'],\n",
      " ['1986',\n",
      "  'German Shepherd Dog',\n",
      "  'Ch. Covy Tucker Hill’s Manhattan',\n",
      "  'Shirlee Braunstein & Jane A. Firestone',\n",
      "  'herding'],\n",
      " ['2004',\n",
      "  'Sussex Spaniel',\n",
      "  'Ch. Clussexx Three D Grinchy Glee',\n",
      "  'Cecilia Ruggles & Beth Dowd',\n",
      "  'sporting'],\n",
      " ['2011',\n",
      "  'Scottish Deerhound',\n",
      "  'GCH. Foxcliffe Hickory Wind',\n",
      "  'Sally Sweatt & Cecilia L Dove & Dr. R. Scott Dove',\n",
      "  'hound'],\n",
      " ['1965',\n",
      "  'Boxer',\n",
      "  'Ch. Salgray’s Fashion Plate',\n",
      "  'Mr. & Mrs. Daniel Hamilburg',\n",
      "  'working'],\n",
      " ['1952',\n",
      "  'Welsh Terrier',\n",
      "  'Ch. Strathglass Venture’s Lucifer',\n",
      "  'Hugh J. Chisholm',\n",
      "  'terrier'],\n",
      " ['2019',\n",
      "  'Havanese',\n",
      "  \"GCh. Oeste's In The Name Of Love\",\n",
      "  'Mary E King & Rafe H Schindler & Julie Vogel & Taffe McFadden',\n",
      "  'toy'],\n",
      " ['1943', 'Pekingese', 'Beh Tang', 'Dorothy P Lathrop', 'toy'],\n",
      " ['1927', 'Pomeranian', 'Ch. Little Rajah', 'Mrs. V. Matta', 'toy'],\n",
      " ['2017',\n",
      "  'Norwich Terrier',\n",
      "  'GCh. Taliesin\\xa0Twice As Nice',\n",
      "  'Lisa Sons',\n",
      "  'terrier'],\n",
      " ['2021',\n",
      "  'Old English Sheepdog',\n",
      "  \"GCH CH Bugaboo's Courage of Conviction\",\n",
      "  'Colton Johnson & Heather Johnson & Douglas Johnson & Michaelanne Johnson',\n",
      "  'herding'],\n",
      " ['2009',\n",
      "  'Poodle (Standard)',\n",
      "  'Ch. Randenn Tristar Affirmation',\n",
      "  'Toni Sosnoff & Martin Sosnoff',\n",
      "  'non-sporting'],\n",
      " ['1938',\n",
      "  'Dachshund (Smooth)',\n",
      "  'Ch. Fox vom Teckelhof',\n",
      "  'Llieno Kennels',\n",
      "  'hound'],\n",
      " ['1979',\n",
      "  'Doberman Pinscher',\n",
      "  'Ch. Marienburg’s Mary Hartman',\n",
      "  'Mary M. Rodgers & Moe M. Miyagawa',\n",
      "  'working'],\n",
      " ['2015',\n",
      "  'Poodle (Standard)',\n",
      "  'GCh. Dawin Hearts On Fire',\n",
      "  'Linda C. Campbell',\n",
      "  'non-sporting'],\n",
      " ['1980',\n",
      "  'Gordon Setter',\n",
      "  'Ch. Ben-Wen’s Benjy McDee',\n",
      "  'Marie Annello & B. Perlstein',\n",
      "  'sporting']]\n"
     ]
    }
   ],
   "source": [
    "# sanity check\n",
    "\n",
    "print(\"Matrix is 5 x\", len(groups_matrix))\n",
    "print(\"\\n-------------------------------\\n\")\n",
    "print(\"20 random winning dogs from the matrix:\\n\")\n",
    "pp.pprint(random.sample(groups_matrix, 20))"
   ]
  },
  {
   "cell_type": "markdown",
   "id": "b9c96982-ab7a-4bc3-9b8d-a78e1bdf9cec",
   "metadata": {},
   "source": [
    "## groups df creation"
   ]
  },
  {
   "cell_type": "code",
   "execution_count": 323,
   "id": "205a6efa-a7ae-42b4-8a1e-1aedfd5475f0",
   "metadata": {},
   "outputs": [
    {
     "data": {
      "text/html": [
       "<div>\n",
       "<style scoped>\n",
       "    .dataframe tbody tr th:only-of-type {\n",
       "        vertical-align: middle;\n",
       "    }\n",
       "\n",
       "    .dataframe tbody tr th {\n",
       "        vertical-align: top;\n",
       "    }\n",
       "\n",
       "    .dataframe thead th {\n",
       "        text-align: right;\n",
       "    }\n",
       "</style>\n",
       "<table border=\"1\" class=\"dataframe\">\n",
       "  <thead>\n",
       "    <tr style=\"text-align: right;\">\n",
       "      <th></th>\n",
       "      <th>year</th>\n",
       "      <th>breed</th>\n",
       "      <th>dog</th>\n",
       "      <th>owner(s)</th>\n",
       "      <th>group</th>\n",
       "    </tr>\n",
       "  </thead>\n",
       "  <tbody>\n",
       "    <tr>\n",
       "      <th>0</th>\n",
       "      <td>2023</td>\n",
       "      <td>English Setter</td>\n",
       "      <td>GCHB CH Winchester's An Apple A Day JH</td>\n",
       "      <td>S Nordstrom &amp; C Hodges &amp; R Barnes &amp; S McGraw &amp;...</td>\n",
       "      <td>sporting</td>\n",
       "    </tr>\n",
       "    <tr>\n",
       "      <th>1</th>\n",
       "      <td>2022</td>\n",
       "      <td>English Setter</td>\n",
       "      <td>GCHS CH Ciara N' Honeygait Belle Of The Ball F...</td>\n",
       "      <td>Van Jacobsen &amp; Lee Afdahl &amp; Amanda &amp; Vito Ciar...</td>\n",
       "      <td>sporting</td>\n",
       "    </tr>\n",
       "    <tr>\n",
       "      <th>2</th>\n",
       "      <td>2021</td>\n",
       "      <td>German Shorthaired Pointer</td>\n",
       "      <td>GCHS CH Clarity Reach The sky VJK-Myst</td>\n",
       "      <td>V. Nunes-Atkinson &amp; Yvonne Hassler-Deterding &amp;...</td>\n",
       "      <td>sporting</td>\n",
       "    </tr>\n",
       "    <tr>\n",
       "      <th>3</th>\n",
       "      <td>2020</td>\n",
       "      <td>Golden Retriever</td>\n",
       "      <td>GCHP CH Hillock's Jack Daniel's RA JH CA RATN ...</td>\n",
       "      <td>Tammy Tomlinson , Jim Cohen &amp; Robert Samios</td>\n",
       "      <td>sporting</td>\n",
       "    </tr>\n",
       "    <tr>\n",
       "      <th>4</th>\n",
       "      <td>2019</td>\n",
       "      <td>Sussex Spaniel</td>\n",
       "      <td>GCh. Kamand’s Full Of Beans @ Erinhill</td>\n",
       "      <td>Karen Ann Toner &amp; Amanda W Toner</td>\n",
       "      <td>sporting</td>\n",
       "    </tr>\n",
       "    <tr>\n",
       "      <th>...</th>\n",
       "      <td>...</td>\n",
       "      <td>...</td>\n",
       "      <td>...</td>\n",
       "      <td>...</td>\n",
       "      <td>...</td>\n",
       "    </tr>\n",
       "    <tr>\n",
       "      <th>630</th>\n",
       "      <td>1987</td>\n",
       "      <td>German Shepherd Dog</td>\n",
       "      <td>Ch. Covy Tucker Hill’s Manhattan</td>\n",
       "      <td>Shirlee Braunstein &amp; Jane A. Firestone</td>\n",
       "      <td>herding</td>\n",
       "    </tr>\n",
       "    <tr>\n",
       "      <th>631</th>\n",
       "      <td>1986</td>\n",
       "      <td>German Shepherd Dog</td>\n",
       "      <td>Ch. Covy Tucker Hill’s Manhattan</td>\n",
       "      <td>Shirlee Braunstein &amp; Jane A. Firestone</td>\n",
       "      <td>herding</td>\n",
       "    </tr>\n",
       "    <tr>\n",
       "      <th>632</th>\n",
       "      <td>1985</td>\n",
       "      <td>Shetland Sheepdog</td>\n",
       "      <td>Ch. Rhodan’s The Windwalker</td>\n",
       "      <td>Kathleen Schmutz</td>\n",
       "      <td>herding</td>\n",
       "    </tr>\n",
       "    <tr>\n",
       "      <th>633</th>\n",
       "      <td>1984</td>\n",
       "      <td>German Shepherd Dog</td>\n",
       "      <td>Ch. Covy Tucker Hill’s Manhattan</td>\n",
       "      <td>Shirlee Braunstein &amp; Jane A. Firestone</td>\n",
       "      <td>herding</td>\n",
       "    </tr>\n",
       "    <tr>\n",
       "      <th>634</th>\n",
       "      <td>1983</td>\n",
       "      <td>Belgian Tervuren</td>\n",
       "      <td>Ch. Corsairs Beaujangles</td>\n",
       "      <td>Steve Sorenson</td>\n",
       "      <td>herding</td>\n",
       "    </tr>\n",
       "  </tbody>\n",
       "</table>\n",
       "<p>635 rows × 5 columns</p>\n",
       "</div>"
      ],
      "text/plain": [
       "     year                       breed  \\\n",
       "0    2023              English Setter   \n",
       "1    2022              English Setter   \n",
       "2    2021  German Shorthaired Pointer   \n",
       "3    2020            Golden Retriever   \n",
       "4    2019              Sussex Spaniel   \n",
       "..    ...                         ...   \n",
       "630  1987         German Shepherd Dog   \n",
       "631  1986         German Shepherd Dog   \n",
       "632  1985           Shetland Sheepdog   \n",
       "633  1984         German Shepherd Dog   \n",
       "634  1983            Belgian Tervuren   \n",
       "\n",
       "                                                   dog  \\\n",
       "0               GCHB CH Winchester's An Apple A Day JH   \n",
       "1    GCHS CH Ciara N' Honeygait Belle Of The Ball F...   \n",
       "2               GCHS CH Clarity Reach The sky VJK-Myst   \n",
       "3    GCHP CH Hillock's Jack Daniel's RA JH CA RATN ...   \n",
       "4               GCh. Kamand’s Full Of Beans @ Erinhill   \n",
       "..                                                 ...   \n",
       "630                   Ch. Covy Tucker Hill’s Manhattan   \n",
       "631                   Ch. Covy Tucker Hill’s Manhattan   \n",
       "632                        Ch. Rhodan’s The Windwalker   \n",
       "633                   Ch. Covy Tucker Hill’s Manhattan   \n",
       "634                           Ch. Corsairs Beaujangles   \n",
       "\n",
       "                                              owner(s)     group  \n",
       "0    S Nordstrom & C Hodges & R Barnes & S McGraw &...  sporting  \n",
       "1    Van Jacobsen & Lee Afdahl & Amanda & Vito Ciar...  sporting  \n",
       "2    V. Nunes-Atkinson & Yvonne Hassler-Deterding &...  sporting  \n",
       "3          Tammy Tomlinson , Jim Cohen & Robert Samios  sporting  \n",
       "4                     Karen Ann Toner & Amanda W Toner  sporting  \n",
       "..                                                 ...       ...  \n",
       "630             Shirlee Braunstein & Jane A. Firestone   herding  \n",
       "631             Shirlee Braunstein & Jane A. Firestone   herding  \n",
       "632                                   Kathleen Schmutz   herding  \n",
       "633             Shirlee Braunstein & Jane A. Firestone   herding  \n",
       "634                                     Steve Sorenson   herding  \n",
       "\n",
       "[635 rows x 5 columns]"
      ]
     },
     "execution_count": 323,
     "metadata": {},
     "output_type": "execute_result"
    }
   ],
   "source": [
    "groups_header = group_dom.cssselect(\"tbody tr td strong\")\n",
    "header = list(map(lambda x: x.text.lower(), groups_header))\n",
    "header.append('group')\n",
    "\n",
    "raw_df = pd.DataFrame(groups_matrix, columns=header)\n",
    "df = raw_df.copy()\n",
    "df"
   ]
  },
  {
   "cell_type": "code",
   "execution_count": null,
   "id": "2d8b1d3e-bf5b-431e-a53c-a383289fffb6",
   "metadata": {},
   "outputs": [],
   "source": []
  }
 ],
 "metadata": {
  "kernelspec": {
   "display_name": "Python 3 (ipykernel)",
   "language": "python",
   "name": "python3"
  },
  "language_info": {
   "codemirror_mode": {
    "name": "ipython",
    "version": 3
   },
   "file_extension": ".py",
   "mimetype": "text/x-python",
   "name": "python",
   "nbconvert_exporter": "python",
   "pygments_lexer": "ipython3",
   "version": "3.8.2"
  }
 },
 "nbformat": 4,
 "nbformat_minor": 5
}
