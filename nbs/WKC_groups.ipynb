{
 "cells": [
  {
   "cell_type": "markdown",
   "id": "2e6d3ee8-a346-480a-9855-fc9aae42b4da",
   "metadata": {},
   "source": [
    "# Westminster dog show data\n",
    "## Part 2: Group winners\n",
    "Grabbing the data from the group winners from 1924 - 2023\n",
    "https://www.westminsterkennelclub.org/about-sensation/history/herding-group-winners"
   ]
  },
  {
   "cell_type": "code",
   "execution_count": 1,
   "id": "29fa4539-c180-49c0-a7c1-2fa9b671a2b5",
   "metadata": {},
   "outputs": [],
   "source": [
    "# housekeeping\n",
    "from tqdm import tqdm\n",
    "from pathlib import Path\n",
    "import pprint as pp\n",
    "\n",
    "# analysis\n",
    "import requests\n",
    "import lxml.html\n",
    "import pandas as pd\n",
    "import re\n",
    "import random\n"
   ]
  },
  {
   "cell_type": "markdown",
   "id": "ed78bc2c-c58f-4adf-9213-6dc9d1cb1ca5",
   "metadata": {},
   "source": [
    "### 1. `get_rows` helper function\n",
    "- takes in a table\n",
    "- returns the running group_matrix so far"
   ]
  },
  {
   "cell_type": "code",
   "execution_count": 2,
   "id": "ec684206-53cb-45fc-9f7e-42f46d16566f",
   "metadata": {},
   "outputs": [],
   "source": [
    "def get_rows(table, group, index):\n",
    "    rows = table.cssselect('tr')[1:]\n",
    "    print(f\"Fetching {group} table rows\")\n",
    "    print(\"-------------------------------\")\n",
    "    \n",
    "    for row_el in tqdm(rows):\n",
    "        children = row_el.getchildren()\n",
    "        \n",
    "        #DEBUG\n",
    "        # print(f\"Currently on row: {index}\" )\n",
    "        # print(\"list is \" + str(len(children)) + \" items long\")\n",
    "        # print(\"-----------------------------\")\n",
    "\n",
    "        if len(children) == 0:\n",
    "            # print(\"Empty row - reindexed & skipped!\")\n",
    "            # print(\"-----------------------------\")\n",
    "            continue       \n",
    "        \n",
    "        champion = list(map(lambda x: x.text_content(), children))\n",
    "        champion.append(group)\n",
    "        index = index + 1\n",
    "        \n",
    "        groups_matrix.append(champion)\n",
    "        index = index + 1\n",
    "        \n",
    "    return groups_matrix"
   ]
  },
  {
   "cell_type": "markdown",
   "id": "9893a6e5-a12c-4312-83e7-62e2a7989781",
   "metadata": {},
   "source": [
    "### 2. `DOM_to_matrix` wrapper function:\n",
    "- takes in `page_html` string, and `url` with relative path\n",
    "- returns matrix, `n x n` list of lists, with the following cols:\n",
    "    - group, year, breed, name, owners"
   ]
  },
  {
   "cell_type": "code",
   "execution_count": 3,
   "id": "a7522f37-42a2-4747-bb1c-3d32baaf330f",
   "metadata": {},
   "outputs": [],
   "source": [
    "def DOM_to_matrix(page, sub_url):\n",
    "    group_dom = lxml.html.fromstring(page_html)\n",
    "    index = 0\n",
    "\n",
    "    # grabbing table \n",
    "    group_table = group_dom.cssselect(\"table\")[0]\n",
    "\n",
    "    # grabbing group\n",
    "    pattern = '.*(?=\\-group-winners)'\n",
    "    m = re.search(pattern, sub_url)\n",
    "    group_m = m.group(0).title()\n",
    "    \n",
    "    # grabbing rows in table\n",
    "    get_rows(group_table, group_m, index)\n",
    "\n",
    "    return groups_matrix"
   ]
  },
  {
   "cell_type": "code",
   "execution_count": 331,
   "id": "d54798d9-c09c-40e4-9145-d28ae030a201",
   "metadata": {},
   "outputs": [],
   "source": [
    "# function test with 1 page\n",
    "# groups_matrix = []\n",
    "# DOM_to_matrix(page_html, url)"
   ]
  },
  {
   "cell_type": "markdown",
   "id": "22a2802e-f8ab-4552-b0db-2256b9504089",
   "metadata": {},
   "source": [
    "## Variable initialization"
   ]
  },
  {
   "cell_type": "code",
   "execution_count": 4,
   "id": "b4be84cc-8260-4faa-b0fa-7ba0de5a83b3",
   "metadata": {},
   "outputs": [],
   "source": [
    "groups_matrix = []\n",
    "\n",
    "# url selection nested within script? not able to chain select from index.\n",
    "index_URL = \"https://www.westminsterkennelclub.org/tag?id=5afcae7ddcb2e405b315c336&name=Group%20Winners\"\n",
    "\n",
    "# work-around\n",
    "base_URL = \"https://www.westminsterkennelclub.org/about-sensation/history/\"\n",
    "rel_urls = [\"sporting-group-winners\",\n",
    "            \"hound-group-winners\",\n",
    "            \"working-group-winners\",\n",
    "            \"terrier-group-winners\",\n",
    "            \"toy-group-winners\",\n",
    "            \"non-sporting-group-winners\",\n",
    "            \"herding-group-winners\",\n",
    "           ]"
   ]
  },
  {
   "cell_type": "markdown",
   "id": "3cf86e6d-e7a3-4242-a10e-effa63df4977",
   "metadata": {},
   "source": [
    "## Scraping, storing, matrix creation"
   ]
  },
  {
   "cell_type": "code",
   "execution_count": 5,
   "id": "a6ceb211-0c37-4e6a-8540-9accb7b70141",
   "metadata": {},
   "outputs": [
    {
     "name": "stderr",
     "output_type": "stream",
     "text": [
      "  0%|                                                                                 | 0/7 [00:00<?, ?it/s]"
     ]
    },
    {
     "name": "stdout",
     "output_type": "stream",
     "text": [
      "-------------------------------\n",
      "file \"sporting-group-winners\" exists! Loading\n",
      "\n",
      "Fetching Sporting table rows\n",
      "-------------------------------\n"
     ]
    },
    {
     "name": "stderr",
     "output_type": "stream",
     "text": [
      "\n",
      "100%|███████████████████████████████████████████████████████████████████| 100/100 [00:00<00:00, 2864.10it/s]\u001b[A\n",
      " 14%|██████████▍                                                              | 1/7 [00:00<00:00,  7.69it/s]"
     ]
    },
    {
     "name": "stdout",
     "output_type": "stream",
     "text": [
      "-------------------------------\n",
      "file \"hound-group-winners\" exists! Loading\n",
      "\n",
      "Fetching Hound table rows\n",
      "-------------------------------\n"
     ]
    },
    {
     "name": "stderr",
     "output_type": "stream",
     "text": [
      "\n",
      "100%|█████████████████████████████████████████████████████████████████████| 94/94 [00:00<00:00, 5755.18it/s]\u001b[A\n",
      " 29%|████████████████████▊                                                    | 2/7 [00:00<00:00,  7.71it/s]"
     ]
    },
    {
     "name": "stdout",
     "output_type": "stream",
     "text": [
      "-------------------------------\n",
      "file \"working-group-winners\" exists! Loading\n",
      "\n",
      "Fetching Working table rows\n",
      "-------------------------------\n"
     ]
    },
    {
     "name": "stderr",
     "output_type": "stream",
     "text": [
      "\n",
      "100%|██████████████████████████████████████████████████████████████████| 101/101 [00:00<00:00, 15586.47it/s]\u001b[A\n"
     ]
    },
    {
     "name": "stdout",
     "output_type": "stream",
     "text": [
      "-------------------------------\n",
      "file \"terrier-group-winners\" exists! Loading\n",
      "\n",
      "Fetching Terrier table rows\n",
      "-------------------------------\n"
     ]
    },
    {
     "name": "stderr",
     "output_type": "stream",
     "text": [
      "\n",
      "100%|██████████████████████████████████████████████████████████████████| 101/101 [00:00<00:00, 27202.51it/s]\u001b[A\n"
     ]
    },
    {
     "name": "stdout",
     "output_type": "stream",
     "text": [
      "-------------------------------\n",
      "file \"toy-group-winners\" exists! Loading\n",
      "\n",
      "Fetching Toy table rows\n",
      "-------------------------------\n"
     ]
    },
    {
     "name": "stderr",
     "output_type": "stream",
     "text": [
      "\n",
      "100%|██████████████████████████████████████████████████████████████████| 101/101 [00:00<00:00, 10233.96it/s]\u001b[A\n",
      " 71%|████████████████████████████████████████████████████▏                    | 5/7 [00:00<00:00, 11.52it/s]"
     ]
    },
    {
     "name": "stdout",
     "output_type": "stream",
     "text": [
      "-------------------------------\n",
      "file \"non-sporting-group-winners\" exists! Loading\n",
      "\n",
      "Fetching Non-Sporting table rows\n",
      "-------------------------------\n"
     ]
    },
    {
     "name": "stderr",
     "output_type": "stream",
     "text": [
      "\n",
      "100%|███████████████████████████████████████████████████████████████████| 101/101 [00:00<00:00, 8994.54it/s]\u001b[A\n"
     ]
    },
    {
     "name": "stdout",
     "output_type": "stream",
     "text": [
      "-------------------------------\n",
      "file \"herding-group-winners\" exists! Loading\n",
      "\n",
      "Fetching Herding table rows\n",
      "-------------------------------\n"
     ]
    },
    {
     "name": "stderr",
     "output_type": "stream",
     "text": [
      "\n",
      "100%|█████████████████████████████████████████████████████████████████████| 42/42 [00:00<00:00, 7544.68it/s]\u001b[A\n",
      "100%|█████████████████████████████████████████████████████████████████████████| 7/7 [00:00<00:00, 11.68it/s]\n"
     ]
    }
   ],
   "source": [
    "# adapted from Jeremy's script - grabbing + storing in HTML files.\n",
    "## maybe do it concurrently?????? if list of URLs was long. Refer to Kai's doc.\n",
    "\n",
    "for url in tqdm(rel_urls):\n",
    "    dest = Path(\"../table-pgs/\" + f\"{url}\" + \".html\")\n",
    "    \n",
    "    if dest.exists(): # ... load it from file\n",
    "        page_html = open(dest).read()\n",
    "        print(\"-------------------------------\")\n",
    "        print(f\"file \\\"{url}\\\" exists! Loading\\n\")\n",
    "        page_html = open(dest).read()\n",
    "\n",
    "        # function call to create 7 group matrix\n",
    "        DOM_to_matrix(page_html, url)\n",
    "            \n",
    "    else: # ... fetch it\n",
    "        page_url = base_URL + url\n",
    "        print(\"Fetching \" + page_url)\n",
    "        page_html = requests.get(page_url).text\n",
    "        \n",
    "        # ... and then save it to file\n",
    "        with open(dest, \"w\") as f:\n",
    "            f.write(page_html)"
   ]
  },
  {
   "cell_type": "code",
   "execution_count": 9,
   "id": "31fddb94-f0a0-4f48-9621-6ae400a462f2",
   "metadata": {},
   "outputs": [
    {
     "name": "stdout",
     "output_type": "stream",
     "text": [
      "Matrix is 5 x 635\n",
      "\n",
      "-------------------------------\n",
      "\n",
      "20 random winning dogs from the matrix:\n",
      "\n",
      "[['1971',\n",
      "  'Norwegian Elkhound',\n",
      "  'Ch. Vin Melca’s Vagabond',\n",
      "  'Patricia V. Craige',\n",
      "  'Hound'],\n",
      " ['1993',\n",
      "  'English Springer Spaniel',\n",
      "  'Ch. Salilyn’s Condor',\n",
      "  'D. & R. Herzig, MD & J. Gasow',\n",
      "  'Sporting'],\n",
      " ['1956', 'Bloodhound', 'Ch. Fancy Bombardier', 'Tom & Pearl Sheahan', 'Hound'],\n",
      " ['1973',\n",
      "  'Afghan Hound',\n",
      "  'Ch. Khayam’s Apollo',\n",
      "  'Dr. & Mrs. Doyle Rogers',\n",
      "  'Hound'],\n",
      " ['2010',\n",
      "  'Poodle (Toy)',\n",
      "  'Ch. Smash Jp Moon Walk',\n",
      "  'Ron Scott & Debbie Burke',\n",
      "  'Toy'],\n",
      " ['1987', 'Bloodhound', 'Ch. Viking’s Thor', 'Charles Sexton', 'Hound'],\n",
      " ['1964',\n",
      "  'Sealyham Terrier',\n",
      "  'Ch. Alcide of Axe',\n",
      "  'Pool Forge Kennels',\n",
      "  'Terrier'],\n",
      " ['1993',\n",
      "  'Komondor',\n",
      "  'Ch. Lojosmegyi Dahu Digal',\n",
      "  'Patricia Turner & Anna Quigley',\n",
      "  'Working'],\n",
      " ['2002',\n",
      "  'Affenpinscher',\n",
      "  'Ch. Yarrow’s Super Nova',\n",
      "  'Dr. & Mrs. William Truesdale',\n",
      "  'Toy'],\n",
      " ['1926',\n",
      "  'Collie (Rough)',\n",
      "  'Laund Hero of Bellhaven',\n",
      "  'Florence B. Ilch',\n",
      "  'Working'],\n",
      " ['1989',\n",
      "  'Doberman Pinscher',\n",
      "  'Ch. Royal Tudor’s Wild As The Wind, CD',\n",
      "  'S. & A. Korp, B. Wilhite, R. & C. Vida',\n",
      "  'Working'],\n",
      " ['1953',\n",
      "  'Doberman Pinscher',\n",
      "  'Ch. Rancho Dobe’s Storm',\n",
      "  'Len Carey',\n",
      "  'Working'],\n",
      " ['1961',\n",
      "  'Poodle (Toy)',\n",
      "  'Ch. Cappoquin Little Sister',\n",
      "  'Florence Michelson',\n",
      "  'Toy'],\n",
      " ['1976', 'Saluki', 'Ch. Canem-Dei’s El Salta Aun', 'Mimi Carlyle', 'Hound'],\n",
      " ['1990', 'Pekingese', 'Ch. Wendessa Crown Prince', 'Edward B. Jenner', 'Toy'],\n",
      " ['1999', 'Papillon', 'Ch. Loteki Supernatural Being', 'John Oulton', 'Toy'],\n",
      " ['1940',\n",
      "  'Brussels Griffon',\n",
      "  'Ch. Burlingame Hellzapoppin',\n",
      "  'Rosalind Layte',\n",
      "  'Toy'],\n",
      " ['1997',\n",
      "  'Dachshund (Wirehaired)',\n",
      "  'Ch. Starbarrack Malachite SW',\n",
      "  'Mrs. Alan R. Robson',\n",
      "  'Hound'],\n",
      " ['2021',\n",
      "  'West Highland White Terrier',\n",
      "  'GCHG CH Crystal Boy De La Pomme',\n",
      "  'Phavida Jaruthavee & Frederic B Askin MD & Fred Melville',\n",
      "  'Terrier'],\n",
      " ['1948',\n",
      "  'Boston Terrier',\n",
      "  'Ch. Mighty Sweet Regardless',\n",
      "  'Claude J. Fitzgerald',\n",
      "  'Non-Sporting']]\n"
     ]
    }
   ],
   "source": [
    "# sanity check\n",
    "\n",
    "print(\"Matrix is 5 x\", len(groups_matrix))\n",
    "print(\"\\n-------------------------------\\n\")\n",
    "print(\"20 random winning dogs from the matrix:\\n\")\n",
    "pp.pprint(random.sample(groups_matrix, 20))"
   ]
  },
  {
   "cell_type": "markdown",
   "id": "b9c96982-ab7a-4bc3-9b8d-a78e1bdf9cec",
   "metadata": {},
   "source": [
    "## groups df creation"
   ]
  },
  {
   "cell_type": "code",
   "execution_count": 8,
   "id": "205a6efa-a7ae-42b4-8a1e-1aedfd5475f0",
   "metadata": {},
   "outputs": [
    {
     "ename": "NameError",
     "evalue": "name 'header' is not defined",
     "output_type": "error",
     "traceback": [
      "\u001b[0;31m---------------------------------------------------------------------------\u001b[0m",
      "\u001b[0;31mNameError\u001b[0m                                 Traceback (most recent call last)",
      "Cell \u001b[0;32mIn[8], line 5\u001b[0m\n\u001b[1;32m      1\u001b[0m \u001b[38;5;66;03m# groups_header = group_dom.cssselect(\"tbody tr td strong\")\u001b[39;00m\n\u001b[1;32m      2\u001b[0m \u001b[38;5;66;03m# header = list(map(lambda x: x.text.lower(), groups_header))\u001b[39;00m\n\u001b[1;32m      3\u001b[0m \u001b[38;5;66;03m# header.append('group')\u001b[39;00m\n\u001b[0;32m----> 5\u001b[0m raw_df \u001b[38;5;241m=\u001b[39m pd\u001b[38;5;241m.\u001b[39mDataFrame(groups_matrix, columns\u001b[38;5;241m=\u001b[39m\u001b[43mheader\u001b[49m)\n\u001b[1;32m      6\u001b[0m groups_df \u001b[38;5;241m=\u001b[39m raw_df\u001b[38;5;241m.\u001b[39mcopy()\n\u001b[1;32m      7\u001b[0m groups_df\n",
      "\u001b[0;31mNameError\u001b[0m: name 'header' is not defined"
     ]
    }
   ],
   "source": [
    "group_dom = \n",
    "groups_header = group_dom.cssselect(\"tbody tr td strong\")\n",
    "header = list(map(lambda x: x.text.lower(), groups_header))\n",
    "header.append('group')\n",
    "\n",
    "raw_df = pd.DataFrame(groups_matrix, columns=header)\n",
    "groups_df = raw_df.copy()\n",
    "groups_df"
   ]
  },
  {
   "cell_type": "code",
   "execution_count": 341,
   "id": "d4f805c4-9fb6-4841-9d21-1f6e54e6a311",
   "metadata": {},
   "outputs": [],
   "source": [
    "# export as CSV\n",
    "destination = Path('./data/groups_data.csv')\n",
    "groups_df.to_csv(destination, index=False)"
   ]
  },
  {
   "cell_type": "markdown",
   "id": "ccac0865-101d-4326-aef6-e844bbb0f2f7",
   "metadata": {},
   "source": [
    "---"
   ]
  },
  {
   "cell_type": "markdown",
   "id": "01eb5afb-f2dc-430f-8f4d-92f4c0fe5fcb",
   "metadata": {},
   "source": [
    "---"
   ]
  },
  {
   "cell_type": "markdown",
   "id": "2402b2df-3856-4934-a292-8aff7d6c8688",
   "metadata": {},
   "source": [
    "---"
   ]
  }
 ],
 "metadata": {
  "kernelspec": {
   "display_name": "Python 3 (ipykernel)",
   "language": "python",
   "name": "python3"
  },
  "language_info": {
   "codemirror_mode": {
    "name": "ipython",
    "version": 3
   },
   "file_extension": ".py",
   "mimetype": "text/x-python",
   "name": "python",
   "nbconvert_exporter": "python",
   "pygments_lexer": "ipython3",
   "version": "3.10.11"
  }
 },
 "nbformat": 4,
 "nbformat_minor": 5
}
