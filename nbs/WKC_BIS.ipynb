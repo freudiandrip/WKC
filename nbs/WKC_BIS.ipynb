{
 "cells": [
  {
   "cell_type": "markdown",
   "id": "e65cd828-6c25-4ac4-9df1-00712b0b597d",
   "metadata": {},
   "source": [
    "# WESTMINSTER DOG SHOW DATA"
   ]
  },
  {
   "cell_type": "markdown",
   "id": "5bf9dd9e-b35b-46f1-804e-feaf38a36933",
   "metadata": {},
   "source": [
    "## Part 1: scraping best in show data"
   ]
  },
  {
   "cell_type": "code",
   "execution_count": 1,
   "id": "d335eed5-8e08-4fb9-b810-f20489856728",
   "metadata": {},
   "outputs": [],
   "source": [
    "# housekeeping\n",
    "from pathlib import Path\n",
    "import pprint as pp\n",
    "\n",
    "#analysis\n",
    "import requests\n",
    "import lxml.html\n",
    "import pandas as pd"
   ]
  },
  {
   "cell_type": "code",
   "execution_count": 2,
   "id": "d893990a-6d4f-47dc-8eff-dc8adc0ba5db",
   "metadata": {},
   "outputs": [],
   "source": [
    "BIS_url = \"https://www.westminsterkennelclub.org/best-in-show-winners\"\n",
    "BIS_pg = requests.get(BIS_url).text\n",
    "BIS_dom = lxml.html.fromstring(BIS_pg)"
   ]
  },
  {
   "cell_type": "code",
   "execution_count": 3,
   "id": "0a07c117-98cc-4a6c-a22a-ae7c696359b6",
   "metadata": {},
   "outputs": [
    {
     "name": "stdout",
     "output_type": "stream",
     "text": [
      "YEAR\n",
      "JUDGE(S)\n",
      "BREED\n",
      "DOG\n",
      "OWNER(S)\n"
     ]
    }
   ],
   "source": [
    "BIS_header = BIS_dom.cssselect(\"tbody tr td strong\")\n",
    "[ print(subheading.text) for subheading in BIS_header ]\n",
    "\n",
    "header = list(map(lambda x: x.text.lower(), BIS_header))"
   ]
  },
  {
   "cell_type": "code",
   "execution_count": 4,
   "id": "f02be24f-ed8c-47ef-bbec-469e33b4be18",
   "metadata": {},
   "outputs": [],
   "source": [
    "BIS_table = BIS_dom.cssselect(\"table\")[0]\n",
    "rows = BIS_table.cssselect('tr')\n",
    "\n",
    "# manually removing faulty rows\n",
    "del rows[0]\n",
    "del rows[5]\n",
    "del rows[16]\n",
    "\n",
    "champions = []\n",
    "\n",
    "for row_el in rows:\n",
    "    champion = []\n",
    "    children = row_el.getchildren()\n",
    "    \n",
    "    champion = list(map(lambda x: x.text, children))\n",
    "\n",
    "    champions.append(champion)\n"
   ]
  },
  {
   "cell_type": "code",
   "execution_count": 5,
   "id": "576af86f-4e6e-4793-8a66-a781c3879f00",
   "metadata": {},
   "outputs": [
    {
     "data": {
      "text/html": [
       "<div>\n",
       "<style scoped>\n",
       "    .dataframe tbody tr th:only-of-type {\n",
       "        vertical-align: middle;\n",
       "    }\n",
       "\n",
       "    .dataframe tbody tr th {\n",
       "        vertical-align: top;\n",
       "    }\n",
       "\n",
       "    .dataframe thead th {\n",
       "        text-align: right;\n",
       "    }\n",
       "</style>\n",
       "<table border=\"1\" class=\"dataframe\">\n",
       "  <thead>\n",
       "    <tr style=\"text-align: right;\">\n",
       "      <th></th>\n",
       "      <th>year</th>\n",
       "      <th>judge(s)</th>\n",
       "      <th>breed</th>\n",
       "      <th>dog</th>\n",
       "      <th>owner(s)</th>\n",
       "    </tr>\n",
       "  </thead>\n",
       "  <tbody>\n",
       "    <tr>\n",
       "      <th>0</th>\n",
       "      <td>1907</td>\n",
       "      <td>*Not Recorded</td>\n",
       "      <td>Smooth Fox Terrier</td>\n",
       "      <td>Ch. Warren Remedy</td>\n",
       "      <td>Winthrop Rutherfurd</td>\n",
       "    </tr>\n",
       "    <tr>\n",
       "      <th>1</th>\n",
       "      <td>1908</td>\n",
       "      <td>*Not Recorded</td>\n",
       "      <td>Smooth Fox Terrier</td>\n",
       "      <td>Ch. Warren Remedy</td>\n",
       "      <td>Winthrop Rutherfurd</td>\n",
       "    </tr>\n",
       "    <tr>\n",
       "      <th>2</th>\n",
       "      <td>1909</td>\n",
       "      <td>*Not Recorded</td>\n",
       "      <td>Smooth Fox Terrier</td>\n",
       "      <td>Ch. Warren Remedy</td>\n",
       "      <td>Winthrop Rutherfurd</td>\n",
       "    </tr>\n",
       "    <tr>\n",
       "      <th>3</th>\n",
       "      <td>1910</td>\n",
       "      <td>*Not Recorded</td>\n",
       "      <td>Smooth Fox Terrier</td>\n",
       "      <td>Ch. Sabine Rarebit</td>\n",
       "      <td>Sabine Kennels</td>\n",
       "    </tr>\n",
       "    <tr>\n",
       "      <th>4</th>\n",
       "      <td>1911</td>\n",
       "      <td>*Not Recorded</td>\n",
       "      <td>Scottish Terrier</td>\n",
       "      <td>Ch. Tickle Em Jock</td>\n",
       "      <td>A. Albright, Jr.</td>\n",
       "    </tr>\n",
       "  </tbody>\n",
       "</table>\n",
       "</div>"
      ],
      "text/plain": [
       "   year       judge(s)               breed                 dog  \\\n",
       "0  1907  *Not Recorded  Smooth Fox Terrier   Ch. Warren Remedy   \n",
       "1  1908  *Not Recorded  Smooth Fox Terrier   Ch. Warren Remedy   \n",
       "2  1909  *Not Recorded  Smooth Fox Terrier   Ch. Warren Remedy   \n",
       "3  1910  *Not Recorded  Smooth Fox Terrier  Ch. Sabine Rarebit   \n",
       "4  1911  *Not Recorded    Scottish Terrier  Ch. Tickle Em Jock   \n",
       "\n",
       "              owner(s)  \n",
       "0  Winthrop Rutherfurd  \n",
       "1  Winthrop Rutherfurd  \n",
       "2  Winthrop Rutherfurd  \n",
       "3       Sabine Kennels  \n",
       "4     A. Albright, Jr.  "
      ]
     },
     "execution_count": 5,
     "metadata": {},
     "output_type": "execute_result"
    }
   ],
   "source": [
    "raw_df = pd.DataFrame(champions, columns=header)\n",
    "# working copy\n",
    "BIS_df = raw_df.copy()\n",
    "BIS_df.head()"
   ]
  },
  {
   "cell_type": "code",
   "execution_count": 6,
   "id": "89b813a2-d2ea-4da2-9aea-d077e933ca78",
   "metadata": {},
   "outputs": [
    {
     "data": {
      "text/html": [
       "<div>\n",
       "<style scoped>\n",
       "    .dataframe tbody tr th:only-of-type {\n",
       "        vertical-align: middle;\n",
       "    }\n",
       "\n",
       "    .dataframe tbody tr th {\n",
       "        vertical-align: top;\n",
       "    }\n",
       "\n",
       "    .dataframe thead th {\n",
       "        text-align: right;\n",
       "    }\n",
       "</style>\n",
       "<table border=\"1\" class=\"dataframe\">\n",
       "  <thead>\n",
       "    <tr style=\"text-align: right;\">\n",
       "      <th></th>\n",
       "      <th>year</th>\n",
       "      <th>breed</th>\n",
       "      <th>dog</th>\n",
       "      <th>owner(s)</th>\n",
       "    </tr>\n",
       "  </thead>\n",
       "  <tbody>\n",
       "    <tr>\n",
       "      <th>0</th>\n",
       "      <td>1907</td>\n",
       "      <td>Smooth Fox Terrier</td>\n",
       "      <td>Ch. Warren Remedy</td>\n",
       "      <td>Winthrop Rutherfurd</td>\n",
       "    </tr>\n",
       "    <tr>\n",
       "      <th>1</th>\n",
       "      <td>1908</td>\n",
       "      <td>Smooth Fox Terrier</td>\n",
       "      <td>Ch. Warren Remedy</td>\n",
       "      <td>Winthrop Rutherfurd</td>\n",
       "    </tr>\n",
       "    <tr>\n",
       "      <th>2</th>\n",
       "      <td>1909</td>\n",
       "      <td>Smooth Fox Terrier</td>\n",
       "      <td>Ch. Warren Remedy</td>\n",
       "      <td>Winthrop Rutherfurd</td>\n",
       "    </tr>\n",
       "    <tr>\n",
       "      <th>3</th>\n",
       "      <td>1910</td>\n",
       "      <td>Smooth Fox Terrier</td>\n",
       "      <td>Ch. Sabine Rarebit</td>\n",
       "      <td>Sabine Kennels</td>\n",
       "    </tr>\n",
       "    <tr>\n",
       "      <th>4</th>\n",
       "      <td>1911</td>\n",
       "      <td>Scottish Terrier</td>\n",
       "      <td>Ch. Tickle Em Jock</td>\n",
       "      <td>A. Albright, Jr.</td>\n",
       "    </tr>\n",
       "    <tr>\n",
       "      <th>...</th>\n",
       "      <td>...</td>\n",
       "      <td>...</td>\n",
       "      <td>...</td>\n",
       "      <td>...</td>\n",
       "    </tr>\n",
       "    <tr>\n",
       "      <th>111</th>\n",
       "      <td>2019</td>\n",
       "      <td>Wire Fox Terrier</td>\n",
       "      <td>GCHB CH King Arthur Van Foliny Home</td>\n",
       "      <td>Victor Malzoni Jr</td>\n",
       "    </tr>\n",
       "    <tr>\n",
       "      <th>112</th>\n",
       "      <td>2020</td>\n",
       "      <td>Standard Poodle</td>\n",
       "      <td>GCHP CH Stone Run Afternoon Tea</td>\n",
       "      <td>Connie S Unger &amp; William Lee</td>\n",
       "    </tr>\n",
       "    <tr>\n",
       "      <th>113</th>\n",
       "      <td>2021</td>\n",
       "      <td>Pekingese</td>\n",
       "      <td>GCHG CH Pequest Wasabi</td>\n",
       "      <td>Sandra Middlebrooks &amp; Peggy Steinman &amp; Iris Lo...</td>\n",
       "    </tr>\n",
       "    <tr>\n",
       "      <th>114</th>\n",
       "      <td>2022</td>\n",
       "      <td>Bloodhound</td>\n",
       "      <td>GCHB Flessner's Toot My Own Horn</td>\n",
       "      <td>Chris &amp; Bryan Flessner &amp; Heather Helmer &amp; Tina...</td>\n",
       "    </tr>\n",
       "    <tr>\n",
       "      <th>115</th>\n",
       "      <td>2023</td>\n",
       "      <td>Petit Basset Griffon Vendeen</td>\n",
       "      <td>CH Soletrader Buddy Holly</td>\n",
       "      <td>Janice Hayes &amp; Lizzie Cadmore &amp; Cathy Oneill &amp;...</td>\n",
       "    </tr>\n",
       "  </tbody>\n",
       "</table>\n",
       "<p>116 rows × 4 columns</p>\n",
       "</div>"
      ],
      "text/plain": [
       "     year                         breed                                  dog  \\\n",
       "0    1907            Smooth Fox Terrier                    Ch. Warren Remedy   \n",
       "1    1908            Smooth Fox Terrier                    Ch. Warren Remedy   \n",
       "2    1909            Smooth Fox Terrier                    Ch. Warren Remedy   \n",
       "3    1910            Smooth Fox Terrier                   Ch. Sabine Rarebit   \n",
       "4    1911              Scottish Terrier                   Ch. Tickle Em Jock   \n",
       "..    ...                           ...                                  ...   \n",
       "111  2019              Wire Fox Terrier  GCHB CH King Arthur Van Foliny Home   \n",
       "112  2020               Standard Poodle      GCHP CH Stone Run Afternoon Tea   \n",
       "113  2021                     Pekingese               GCHG CH Pequest Wasabi   \n",
       "114  2022                    Bloodhound     GCHB Flessner's Toot My Own Horn   \n",
       "115  2023  Petit Basset Griffon Vendeen            CH Soletrader Buddy Holly   \n",
       "\n",
       "                                              owner(s)  \n",
       "0                                  Winthrop Rutherfurd  \n",
       "1                                  Winthrop Rutherfurd  \n",
       "2                                  Winthrop Rutherfurd  \n",
       "3                                       Sabine Kennels  \n",
       "4                                     A. Albright, Jr.  \n",
       "..                                                 ...  \n",
       "111                                  Victor Malzoni Jr  \n",
       "112                       Connie S Unger & William Lee  \n",
       "113  Sandra Middlebrooks & Peggy Steinman & Iris Lo...  \n",
       "114  Chris & Bryan Flessner & Heather Helmer & Tina...  \n",
       "115  Janice Hayes & Lizzie Cadmore & Cathy Oneill &...  \n",
       "\n",
       "[116 rows x 4 columns]"
      ]
     },
     "execution_count": 6,
     "metadata": {},
     "output_type": "execute_result"
    }
   ],
   "source": [
    "# getting rid of judges\n",
    "BIS_df.drop('judge(s)', axis=1, inplace=True)\n",
    "BIS_df"
   ]
  },
  {
   "cell_type": "code",
   "execution_count": 9,
   "id": "8c23473d-5325-4e4d-bd4d-b5ac253a9011",
   "metadata": {},
   "outputs": [
    {
     "data": {
      "text/plain": [
       "year        object\n",
       "breed       object\n",
       "dog         object\n",
       "owner(s)    object\n",
       "dtype: object"
      ]
     },
     "execution_count": 9,
     "metadata": {},
     "output_type": "execute_result"
    }
   ],
   "source": [
    "BIS_df.dtypes"
   ]
  },
  {
   "cell_type": "code",
   "execution_count": 12,
   "id": "1bd08bbc-d2d4-4452-b48d-377055f15101",
   "metadata": {},
   "outputs": [
    {
     "name": "stdout",
     "output_type": "stream",
     "text": [
      "breed\n",
      "Wire Fox Terrier            15\n",
      "Scottish Terrier             8\n",
      "English Springer Spaniel     6\n",
      "Pekingese                    5\n",
      "Smooth Fox Terrier           4\n",
      "Sealyham Terrier             4\n",
      "Boxer                        4\n",
      "Poodle (Standard)            4\n",
      "Doberman Pinscher            4\n",
      "Airedale Terrier             4\n",
      "Name: count, dtype: int64\n",
      "-------------------------------------\n",
      "Unique breeds that have won best in show: 51\n"
     ]
    }
   ],
   "source": [
    "# getting counts of all breeds that won BIS\n",
    "BIS_breed = BIS_df['breed'].value_counts()\n",
    "print(BIS_breed[:10])\n",
    "print(\"-------------------------------------\")\n",
    "print(\"Unique breeds that have won best in show:\",len(BIS_breed))"
   ]
  },
  {
   "cell_type": "code",
   "execution_count": 76,
   "id": "e8e61340-a7df-4f2c-bed6-11b460aec7cc",
   "metadata": {},
   "outputs": [],
   "source": [
    "# export as CSV\n",
    "destination = Path('./data/BIS_data.csv')\n",
    "BIS_df.to_csv(destination, index=False)"
   ]
  },
  {
   "cell_type": "markdown",
   "id": "62833593-bd30-4777-b558-454bf9ebe8df",
   "metadata": {},
   "source": [
    "-----"
   ]
  },
  {
   "cell_type": "markdown",
   "id": "8da3b5ab-3d7f-48b4-ad5f-08801ca6690e",
   "metadata": {},
   "source": [
    "-----"
   ]
  },
  {
   "cell_type": "markdown",
   "id": "547ad30f-eabb-4d27-9da9-d4c4d605ac12",
   "metadata": {},
   "source": [
    "-----"
   ]
  }
 ],
 "metadata": {
  "kernelspec": {
   "display_name": "Python 3 (ipykernel)",
   "language": "python",
   "name": "python3"
  },
  "language_info": {
   "codemirror_mode": {
    "name": "ipython",
    "version": 3
   },
   "file_extension": ".py",
   "mimetype": "text/x-python",
   "name": "python",
   "nbconvert_exporter": "python",
   "pygments_lexer": "ipython3",
   "version": "3.10.11"
  }
 },
 "nbformat": 4,
 "nbformat_minor": 5
}
