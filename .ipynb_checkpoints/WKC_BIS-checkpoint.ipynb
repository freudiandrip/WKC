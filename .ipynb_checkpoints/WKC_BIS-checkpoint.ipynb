{
 "cells": [
  {
   "cell_type": "code",
   "execution_count": 5,
   "id": "d335eed5-8e08-4fb9-b810-f20489856728",
   "metadata": {},
   "outputs": [],
   "source": [
    "import requests\n",
    "import lxml.html\n",
    "import pprint as pp"
   ]
  },
  {
   "cell_type": "code",
   "execution_count": 6,
   "id": "d893990a-6d4f-47dc-8eff-dc8adc0ba5db",
   "metadata": {},
   "outputs": [
    {
     "name": "stdout",
     "output_type": "stream",
     "text": [
      "<Element html at 0x7fac0fcdbae0>\n"
     ]
    }
   ],
   "source": [
    "BIS_url = \"https://www.westminsterkennelclub.org/best-in-show-winners\"\n",
    "BIS_pg = requests.get(BIS_url).text\n",
    "BIS_dom = lxml.html.fromstring(BIS_pg)\n",
    "\n",
    "pp.pprint(BIS_dom)"
   ]
  },
  {
   "cell_type": "code",
   "execution_count": null,
   "id": "0a07c117-98cc-4a6c-a22a-ae7c696359b6",
   "metadata": {},
   "outputs": [],
   "source": [
    "bis_header = BIS_dom.cssselect(\"\")"
   ]
  }
 ],
 "metadata": {
  "kernelspec": {
   "display_name": "Python 3 (ipykernel)",
   "language": "python",
   "name": "python3"
  },
  "language_info": {
   "codemirror_mode": {
    "name": "ipython",
    "version": 3
   },
   "file_extension": ".py",
   "mimetype": "text/x-python",
   "name": "python",
   "nbconvert_exporter": "python",
   "pygments_lexer": "ipython3",
   "version": "3.8.2"
  }
 },
 "nbformat": 4,
 "nbformat_minor": 5
}
