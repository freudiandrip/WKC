{
 "cells": [
  {
   "cell_type": "markdown",
   "id": "11a4120a-c633-4153-93f8-2c4e13253dcf",
   "metadata": {},
   "source": [
    "# Westminster Dog Show Data\n",
    "## Part 3: merging BIS, groups cleaned df with `WKC_merged`"
   ]
  },
  {
   "cell_type": "code",
   "execution_count": 3,
   "id": "1d6a8f5e-f09c-40e4-a60b-9547d43f8f35",
   "metadata": {},
   "outputs": [],
   "source": [
    "#lib import\n",
    "import pandas as pd\n",
    "import numpy as np\n",
    "import pprint as pp\n",
    "from tqdm import tqdm\n",
    "from pathlib import Path"
   ]
  },
  {
   "cell_type": "code",
   "execution_count": 10,
   "id": "66cc27e4-8306-4e98-aa0f-0860d4e4b975",
   "metadata": {},
   "outputs": [
    {
     "ename": "ModuleNotFoundError",
     "evalue": "No module named 'WKC_BIS'",
     "output_type": "error",
     "traceback": [
      "\u001b[0;31m---------------------------------------------------------------------------\u001b[0m",
      "\u001b[0;31mModuleNotFoundError\u001b[0m                       Traceback (most recent call last)",
      "Cell \u001b[0;32mIn[10], line 2\u001b[0m\n\u001b[1;32m      1\u001b[0m \u001b[38;5;66;03m#df import\u001b[39;00m\n\u001b[0;32m----> 2\u001b[0m \u001b[38;5;28;01mfrom\u001b[39;00m \u001b[38;5;21;01mWKC_BIS\u001b[39;00m\u001b[38;5;21;01m.\u001b[39;00m\u001b[38;5;21;01mipynb\u001b[39;00m \u001b[38;5;28;01mimport\u001b[39;00m get_dataframe\n\u001b[1;32m      3\u001b[0m \u001b[38;5;28;01mfrom\u001b[39;00m \u001b[38;5;21;01mWKC_groups\u001b[39;00m\u001b[38;5;21;01m.\u001b[39;00m\u001b[38;5;21;01mipynb\u001b[39;00m \u001b[38;5;28;01mimport\u001b[39;00m get_dataframe\n",
      "\u001b[0;31mModuleNotFoundError\u001b[0m: No module named 'WKC_BIS'"
     ]
    }
   ],
   "source": [
    "#df import"
   ]
  },
  {
   "cell_type": "code",
   "execution_count": null,
   "id": "b811c8af-0ccd-42ed-b165-1e0e44ad00f1",
   "metadata": {},
   "outputs": [],
   "source": []
  }
 ],
 "metadata": {
  "kernelspec": {
   "display_name": "Python 3 (ipykernel)",
   "language": "python",
   "name": "python3"
  },
  "language_info": {
   "codemirror_mode": {
    "name": "ipython",
    "version": 3
   },
   "file_extension": ".py",
   "mimetype": "text/x-python",
   "name": "python",
   "nbconvert_exporter": "python",
   "pygments_lexer": "ipython3",
   "version": "3.8.2"
  }
 },
 "nbformat": 4,
 "nbformat_minor": 5
}
