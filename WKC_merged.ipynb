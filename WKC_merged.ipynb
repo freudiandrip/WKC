{
 "cells": [
  {
   "cell_type": "markdown",
   "id": "11a4120a-c633-4153-93f8-2c4e13253dcf",
   "metadata": {},
   "source": [
    "# Westminster Dog Show Data\n",
    "## Part 3: merging BIS, groups cleaned df with `WKC_merged`"
   ]
  },
  {
   "cell_type": "code",
   "execution_count": 95,
   "id": "1d6a8f5e-f09c-40e4-a60b-9547d43f8f35",
   "metadata": {},
   "outputs": [],
   "source": [
    "# housekeeping\n",
    "import pprint as pp\n",
    "from tqdm import tqdm\n",
    "from pathlib import Path\n",
    "\n",
    "# analysis\n",
    "import pandas as pd\n",
    "import numpy as np"
   ]
  },
  {
   "cell_type": "code",
   "execution_count": 96,
   "id": "66cc27e4-8306-4e98-aa0f-0860d4e4b975",
   "metadata": {},
   "outputs": [],
   "source": [
    "#dfs import\n",
    "BIS_path = Path('./data/BIS_data.csv')\n",
    "BIS_raw = pd.read_csv(BIS_path)\n",
    "BIS_df = BIS_raw.copy()\n",
    "\n",
    "groups_path = Path('./data/groups_data.csv')\n",
    "groups_raw = pd.read_csv(groups_path)\n",
    "groups_df = groups_raw.copy()"
   ]
  },
  {
   "cell_type": "code",
   "execution_count": 97,
   "id": "b811c8af-0ccd-42ed-b165-1e0e44ad00f1",
   "metadata": {},
   "outputs": [
    {
     "name": "stderr",
     "output_type": "stream",
     "text": [
      "/var/folders/9m/nqg58g110vb7_lk_087zg21c0000gn/T/ipykernel_38231/3413539797.py:10: SettingWithCopyWarning: \n",
      "A value is trying to be set on a copy of a slice from a DataFrame\n",
      "\n",
      "See the caveats in the documentation: https://pandas.pydata.org/pandas-docs/stable/user_guide/indexing.html#returning-a-view-versus-a-copy\n",
      "  groups_df['year'].iloc[idx_1] = 1964\n",
      "/var/folders/9m/nqg58g110vb7_lk_087zg21c0000gn/T/ipykernel_38231/3413539797.py:18: SettingWithCopyWarning: \n",
      "A value is trying to be set on a copy of a slice from a DataFrame\n",
      "\n",
      "See the caveats in the documentation: https://pandas.pydata.org/pandas-docs/stable/user_guide/indexing.html#returning-a-view-versus-a-copy\n",
      "  groups_df['year'].iloc[idx_202] = 2023\n"
     ]
    },
    {
     "data": {
      "text/plain": [
       "year                                                     2023\n",
       "breed                          American Staffordshire Terrier\n",
       "dog               GCHP CH Lbk's Rebel And Proud Party Crasher\n",
       "owner(s)    Traci Chlan Luisma & Lacey Benitez & Ion Ispas...\n",
       "group                                                 Terrier\n",
       "Name: 294, dtype: object"
      ]
     },
     "execution_count": 97,
     "metadata": {},
     "output_type": "execute_result"
    }
   ],
   "source": [
    "# val clean up\n",
    "groups_df['year'] = groups_df['year'].astype(int)\n",
    "groups_df['year'].value_counts()\n",
    "\n",
    "#locating index where year = 1\n",
    "groups_df['year'].min()\n",
    "groups_df[groups_df['year'] == 1]\n",
    "idx_1 = 453\n",
    "#rewrite\n",
    "groups_df['year'].iloc[idx_1] = 1964\n",
    "groups_df.iloc[idx_1]\n",
    "\n",
    "#locating index where year = 202\n",
    "groups_df['year'].min()\n",
    "groups_df[groups_df['year'] == 202]\n",
    "idx_202 = 294\n",
    "#rewrite\n",
    "groups_df['year'].iloc[idx_202] = 2023\n",
    "groups_df.iloc[idx_202]"
   ]
  },
  {
   "cell_type": "code",
   "execution_count": 103,
   "id": "d6b6d6f3-a314-4cbf-999c-d95f3f80cd56",
   "metadata": {},
   "outputs": [
    {
     "data": {
      "text/html": [
       "<div>\n",
       "<style scoped>\n",
       "    .dataframe tbody tr th:only-of-type {\n",
       "        vertical-align: middle;\n",
       "    }\n",
       "\n",
       "    .dataframe tbody tr th {\n",
       "        vertical-align: top;\n",
       "    }\n",
       "\n",
       "    .dataframe thead th {\n",
       "        text-align: right;\n",
       "    }\n",
       "</style>\n",
       "<table border=\"1\" class=\"dataframe\">\n",
       "  <thead>\n",
       "    <tr style=\"text-align: right;\">\n",
       "      <th></th>\n",
       "      <th>year</th>\n",
       "      <th>breed</th>\n",
       "      <th>dog</th>\n",
       "      <th>owner(s)</th>\n",
       "    </tr>\n",
       "  </thead>\n",
       "  <tbody>\n",
       "    <tr>\n",
       "      <th>0</th>\n",
       "      <td>1924</td>\n",
       "      <td>Sealyham Terrier</td>\n",
       "      <td>Ch. Barberryhill Bootlegger</td>\n",
       "      <td>Bayard Warren</td>\n",
       "    </tr>\n",
       "    <tr>\n",
       "      <th>1</th>\n",
       "      <td>1925</td>\n",
       "      <td>Pointer</td>\n",
       "      <td>Ch. Governor Moscow</td>\n",
       "      <td>Robert F. Maloney</td>\n",
       "    </tr>\n",
       "    <tr>\n",
       "      <th>2</th>\n",
       "      <td>1926</td>\n",
       "      <td>Wire Fox Terrier</td>\n",
       "      <td>Ch. Signal Circuit of Halleston</td>\n",
       "      <td>Halleston Kennels</td>\n",
       "    </tr>\n",
       "    <tr>\n",
       "      <th>3</th>\n",
       "      <td>1927</td>\n",
       "      <td>Sealyham Terrier</td>\n",
       "      <td>Ch. Pinegrade Perfection</td>\n",
       "      <td>Frederic C. Brown</td>\n",
       "    </tr>\n",
       "    <tr>\n",
       "      <th>4</th>\n",
       "      <td>1928</td>\n",
       "      <td>Wire Fox Terrier</td>\n",
       "      <td>Ch. Talavera Margaret</td>\n",
       "      <td>R. M. Lewis</td>\n",
       "    </tr>\n",
       "  </tbody>\n",
       "</table>\n",
       "</div>"
      ],
      "text/plain": [
       "   year             breed                              dog           owner(s)\n",
       "0  1924  Sealyham Terrier      Ch. Barberryhill Bootlegger      Bayard Warren\n",
       "1  1925           Pointer              Ch. Governor Moscow  Robert F. Maloney\n",
       "2  1926  Wire Fox Terrier  Ch. Signal Circuit of Halleston  Halleston Kennels\n",
       "3  1927  Sealyham Terrier         Ch. Pinegrade Perfection  Frederic C. Brown\n",
       "4  1928  Wire Fox Terrier            Ch. Talavera Margaret        R. M. Lewis"
      ]
     },
     "execution_count": 103,
     "metadata": {},
     "output_type": "execute_result"
    }
   ],
   "source": [
    "#year slicing\n",
    "min_year = groups_df['year'].min()\n",
    "\n",
    "# find index in corresponding min year\n",
    "BIS_df[BIS_df['year'] == min_year]\n",
    "cutoff_idx = 16\n",
    "\n",
    "#sliced @ 1924; min group year is 1924\n",
    "BIS_sliced = BIS_df[16:].copy().reset_index(drop=True) #no idx col\n",
    "BIS_sliced.head()"
   ]
  },
  {
   "cell_type": "code",
   "execution_count": null,
   "id": "a3cf1a83-6b6f-4abf-86f4-4cb0fd283d12",
   "metadata": {},
   "outputs": [],
   "source": []
  }
 ],
 "metadata": {
  "kernelspec": {
   "display_name": "Python 3 (ipykernel)",
   "language": "python",
   "name": "python3"
  },
  "language_info": {
   "codemirror_mode": {
    "name": "ipython",
    "version": 3
   },
   "file_extension": ".py",
   "mimetype": "text/x-python",
   "name": "python",
   "nbconvert_exporter": "python",
   "pygments_lexer": "ipython3",
   "version": "3.8.2"
  }
 },
 "nbformat": 4,
 "nbformat_minor": 5
}
